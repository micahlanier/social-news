{
 "metadata": {
  "name": "",
  "signature": "sha256:b7958f54064b5cc96fc8c7f1e106106ec686d3b16a06f532b899ce04249158c6"
 },
 "nbformat": 3,
 "nbformat_minor": 0,
 "worksheets": [
  {
   "cells": [
    {
     "cell_type": "heading",
     "level": 2,
     "metadata": {},
     "source": [
      "Predictive Analysis: Key Findings"
     ]
    },
    {
     "cell_type": "heading",
     "level": 3,
     "metadata": {},
     "source": [
      "Post Timing"
     ]
    },
    {
     "cell_type": "markdown",
     "metadata": {},
     "source": [
      "During our exploratory analysis, we noticed that news organizations appear to follow many different schedules for posting their social media content. Some are more apt than others to post on weekends. Others post fairly consistently throughout the day; others show abrupt \"ramp ups\" in the morning, post rapidly throughout working hours, and show a diminished posting load as the evening progresses."
     ]
    },
    {
     "cell_type": "markdown",
     "metadata": {},
     "source": [
      "These posting patterns beg the question: can news organizations increase their social media viewership by posting at different times."
     ]
    },
    {
     "cell_type": "markdown",
     "metadata": {},
     "source": [
      "Interestingly, this analysis differs somewhat from [Bitly's analysis of the same topic](http://blog.bitly.com/post/22663850994/time-is-on-your-side). Their analysis found the same (intuitive) effect for late-night/early-morning posts. But our \"peak\" time range for predicting link traffic on each network fell slightly earlier: around 12pm for both networks, against Bitly's estimates of approximately 2pm. Bitly also found the opposite \"weekend effect,\" suggesting very little traffic to be had for weekend posts.\n",
      "\n",
      "There are many possible reasons for this discrepancy, including the other variables for which our model controls (Bitly's analysis does not appear to control for anything) and the very specific organizational and content focus of our analysis. Indeed, it is possible that the benefits of weekend posting are driven by the relative paucity of news content available on weekends: weekend posts have little competition for a smaller audience. In that case, there may be advantages for single news organizations to post more on weekends, but there may be little benefit if all organizations were to adopt the practice."
     ]
    },
    {
     "cell_type": "code",
     "collapsed": false,
     "input": [],
     "language": "python",
     "metadata": {},
     "outputs": []
    }
   ],
   "metadata": {}
  }
 ]
}