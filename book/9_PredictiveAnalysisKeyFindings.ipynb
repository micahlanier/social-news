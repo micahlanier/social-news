{
 "metadata": {
  "name": "",
  "signature": "sha256:b7f1aa7c301daed3e53dd86d79ee626ce46ef562dfad609d6f6a833320ccd824"
 },
 "nbformat": 3,
 "nbformat_minor": 0,
 "worksheets": [
  {
   "cells": [
    {
     "cell_type": "heading",
     "level": 2,
     "metadata": {},
     "source": [
      "Predictive Analysis: Key Findings"
     ]
    },
    {
     "cell_type": "markdown",
     "metadata": {},
     "source": [
      "This section discusses key findings from the [Predictive Analysis](#Predictive-Analysis) section. It focuses on particularly large regression coefficients and notably important Random Forest features. Feel free to refer back to the above section if needed; we will make an effort to include all relevant information here."
     ]
    },
    {
     "cell_type": "code",
     "collapsed": false,
     "input": [
      "# Load libraries useful for this analysis.\n",
      "import json\n",
      "from matplotlib import pyplot as plt\n",
      "import numpy as np\n",
      "import pandas as pd\n",
      "import pickle\n",
      "import seaborn as sns"
     ],
     "language": "python",
     "metadata": {},
     "outputs": []
    },
    {
     "cell_type": "markdown",
     "metadata": {},
     "source": [
      "The below analysis reuses many of the datasets and models generated below. For brevity, we will not reproduce that code here. Please see linked notebooks for relevant information."
     ]
    },
    {
     "cell_type": "heading",
     "level": 3,
     "metadata": {},
     "source": [
      "Post Timing"
     ]
    },
    {
     "cell_type": "markdown",
     "metadata": {},
     "source": [
      "Much of this analysis is based on the work done in [/src/exploration/timeExploration.ipynb](http://nbviewer.ipython.org/github/micahlanier/social-news/blob/master/src/exploration/timeExploration.ipynb)."
     ]
    },
    {
     "cell_type": "markdown",
     "metadata": {},
     "source": [
      "During our exploratory analysis, we noticed that news organizations appear to follow many different schedules for posting their social media content. Some post fairly consistently throughout the day; others show abrupt \"ramp ups\" in the morning, post rapidly throughout working hours, and show a diminished posting load as the evening progresses. The following shows hourly posting activity for all organizations on both Twitter and Facebook in the time period examined:"
     ]
    },
    {
     "cell_type": "code",
     "collapsed": false,
     "input": [
      "# TODO HOURLY POSTING CHART."
     ],
     "language": "python",
     "metadata": {},
     "outputs": []
    },
    {
     "cell_type": "markdown",
     "metadata": {},
     "source": [
      "American news sources generally appear to peak in the early afternoon. As expected, European sources (the *Daily Mail* is somewhat of an exception) post on an earlier schedule, and may not be appropriate to consider in this analysis. But all sources display tremendous variety in their late afternoon and evening posting habits. Here are aggregate posting patterns across both social network (\"dropoffs\" at either end are an artifact of the kernel density estimate plot):"
     ]
    },
    {
     "cell_type": "code",
     "collapsed": false,
     "input": [
      "# TODO HOURLY POSTING CHART."
     ],
     "language": "python",
     "metadata": {},
     "outputs": []
    },
    {
     "cell_type": "heading",
     "level": 4,
     "metadata": {},
     "source": [
      "Predictive Analysis"
     ]
    },
    {
     "cell_type": "markdown",
     "metadata": {},
     "source": [
      "These posting patterns beg the question: can news organizations increase their social media viewership by posting at different times? Our predictive analysis suggests so. All models assigned importance to \"time of day\" as a predictor of link clicks. The regression model suggests the following such relationship, where position on the *y*-axis represents proportional change in clicks:"
     ]
    },
    {
     "cell_type": "code",
     "collapsed": false,
     "input": [
      "# TODO ILLUSTRATE TIME IN LR MODEL."
     ],
     "language": "python",
     "metadata": {},
     "outputs": []
    },
    {
     "cell_type": "markdown",
     "metadata": {},
     "source": [
      "The fact that the Twitter model does not \"oscillate\" properly between days suggests it could use more work, but the Facebook model looks pretty good. To understand the magnitude of this effect, consider two times: **a Facebook post at 6pm is expected to receive 26% more posts than the same post at 6am** (0.289-0.021)."
     ]
    },
    {
     "cell_type": "heading",
     "level": 4,
     "metadata": {},
     "source": [
      "Conclusions"
     ]
    },
    {
     "cell_type": "markdown",
     "metadata": {},
     "source": [
      "**The above suggests that some organizations that post heavily at night might benefit from reconsidering their posting strategies.** Still, there are two key objections to this conclusion:\n",
      "\n",
      "1. Publishers may be \"dumping\" low-impact stories on off-peak hours. Those stories might not attract attention during the daytime anyway.\n",
      "2. Publishers may simply be *reposting* stories at night, and are already posting important material at times that better maximize clicks.\n",
      "\n",
      "Unfortunately, we are not confident that our prediction dataset can detect the first phenomenon, and it remains a critical consideration when applying this analysis to posting strategy. We can, however, use URL information to determine if nighttime posts are reposts."
     ]
    },
    {
     "cell_type": "code",
     "collapsed": false,
     "input": [
      "# TODO REPOST VOLUME."
     ],
     "language": "python",
     "metadata": {},
     "outputs": []
    },
    {
     "cell_type": "markdown",
     "metadata": {},
     "source": [
      "Thus, repost volume appears to differ little between the two time periods. The first objection above (about news \"dumping\") remains valid, and further analysis ought to address it. Still, from the observed posting schedules, many organizations appear apt to post news stories according to their own workdays. Evidence suggests that they might benefit from a more data-driven strategy."
     ]
    },
    {
     "cell_type": "markdown",
     "metadata": {},
     "source": [
      "Interestingly, this analysis differs somewhat from [Bitly's analysis of the same topic](http://blog.bitly.com/post/22663850994/time-is-on-your-side). Their analysis found the same (intuitive) effect for late-night/early-morning posts. But our \"peak\" time range for predicting link traffic on each network fell slightly earlier: around 12pm for both networks, against Bitly's estimates of approximately 2pm. There are many possible reasons for this discrepancy, including the other variables for which our model controls (Bitly's analysis does not appear to control for anything) and the very specific organizational and content focus of our analysis."
     ]
    },
    {
     "cell_type": "heading",
     "level": 3,
     "metadata": {},
     "source": [
      "Weekend Posts"
     ]
    },
    {
     "cell_type": "markdown",
     "metadata": {},
     "source": [
      "As one might expect, publishers show relatively little activity on weekends, but to varying degrees:"
     ]
    },
    {
     "cell_type": "code",
     "collapsed": false,
     "input": [
      "# TODO WEEKEND POSTS."
     ],
     "language": "python",
     "metadata": {},
     "outputs": []
    },
    {
     "cell_type": "markdown",
     "metadata": {},
     "source": [
      "Here is the same view for all news organizations:"
     ]
    },
    {
     "cell_type": "code",
     "collapsed": false,
     "input": [
      "# TODO AGG WEEKEND POSTS."
     ],
     "language": "python",
     "metadata": {},
     "outputs": []
    },
    {
     "cell_type": "heading",
     "level": 4,
     "metadata": {},
     "source": [
      "Predictive Analysis"
     ]
    },
    {
     "cell_type": "markdown",
     "metadata": {},
     "source": [
      "In contrast to \"time of day\" features, the Ridge Regression and Random Forest models differed in their appraisal of weekend posts: the former models assigned weekend posts significant increases in expected clicks, while the latter found little importance in the feature. Still, the linear regression model's effects were quite large: weekend posts showed showed predicted increases in clicks of anywhere from 9 - 40% (depending on the day)."
     ]
    },
    {
     "cell_type": "markdown",
     "metadata": {},
     "source": [
      "Repost analysis shows similar "
     ]
    },
    {
     "cell_type": "heading",
     "level": 4,
     "metadata": {},
     "source": [
      "Conclusions"
     ]
    },
    {
     "cell_type": "markdown",
     "metadata": {},
     "source": []
    },
    {
     "cell_type": "markdown",
     "metadata": {},
     "source": [
      "Once again, our analysis differs from Bitly's; they note a lull in aggregate click behavior on weekends. And as above, it must be noted that our analysis differs from theirs in our controls and our focus on news organizations (which publish news *links*).\n",
      "\n",
      "With this in mind, it is possible that the benefits of weekend posting are driven by the relative paucity of news content available on weekends: weekend posts have little competition (but for a smaller audience). In that case, there may be advantages for single news organizations to post more on weekends, but there may be little benefit if all organizations were to adopt the practice."
     ]
    },
    {
     "cell_type": "heading",
     "level": 3,
     "metadata": {},
     "source": [
      "Sentiment"
     ]
    },
    {
     "cell_type": "markdown",
     "metadata": {},
     "source": []
    },
    {
     "cell_type": "heading",
     "level": 3,
     "metadata": {},
     "source": [
      "Facebook & Twitter \"Medium\""
     ]
    },
    {
     "cell_type": "markdown",
     "metadata": {},
     "source": [
      "This analysis is derived from [/src/prediction/media.ipynb](http://nbviewer.ipython.org/github/micahlanier/social-news/blob/master/src/prediction/media.ipynb).\n",
      "\n",
      "Facebook and Twitter (in varying ways) allow users to post photos and video with their content. The exact manner in which this changes user interaction with the post is dependent on the network, and has distinct implications for the number of clicks a link contained therein will receive."
     ]
    },
    {
     "cell_type": "heading",
     "level": 4,
     "metadata": {},
     "source": [
      "Photos on Twitter"
     ]
    },
    {
     "cell_type": "markdown",
     "metadata": {},
     "source": [
      "Twitter photos are primarily \"complementary.\" Consider the following from the *New York Times*, as it appears in one of the author's Twitter timelines:\n",
      "![New York Times tweet with accompanying image.](./img/nyt_dublin_tweet.png)\n",
      "As observed, photos \"accompany\" tweets, which retain much of their prior appearance. They have enhanced placement in user timelines, and can be enlarged to show more content (offering another avenue of interaction to Twitter users).\n",
      "\n",
      "But what is this worth to a publisher? Our linear regression model can tell us. It includes a factor for medium, but uses \"photo\" media as the base level. To determine the value of a photo relative to plain text, we can simply multiply that value by -1:"
     ]
    },
    {
     "cell_type": "code",
     "collapsed": false,
     "input": [
      "# Get Twitter photo coefficient.\n",
      "# Base level of factor is photo, so use level \"text\" and multiply by -1.\n",
      "print 'Derived coefficient for photos, on log scale (for clicks): %.3f' % ((-1) * lm_clicks_tw.coef_[features_lm_tw.index('medium_text')])"
     ],
     "language": "python",
     "metadata": {},
     "outputs": [
      {
       "output_type": "stream",
       "stream": "stdout",
       "text": [
        "Derived coefficient for photos, on log scale (for clicks): 0.530\n"
       ]
      }
     ],
     "prompt_number": 12
    },
    {
     "cell_type": "markdown",
     "metadata": {},
     "source": [
      "**Thus, accounting for the logarithmic scale of our model, a post with a photo is estimated to garner 53% more clicks than the same post without a photo.**"
     ]
    },
    {
     "cell_type": "markdown",
     "metadata": {},
     "source": [
      "Interestingly, this outcome is completely counterintuitive when examining aggregate data. On the whole, tweets with photos actually receive *fewer* link clicks per follower than those without:"
     ]
    },
    {
     "cell_type": "code",
     "collapsed": false,
     "input": [
      "# TODO counterintuitive tweet link click comparison."
     ],
     "language": "python",
     "metadata": {},
     "outputs": []
    },
    {
     "cell_type": "markdown",
     "metadata": {},
     "source": [
      "When controlling for other variables, photos thus appear as a major driver of link traffic. Unfortunately, this analysis has been completed near the end of CS 109's schedule. It makes for a fascinating vector for future research."
     ]
    },
    {
     "cell_type": "markdown",
     "metadata": {},
     "source": [
      "Notably, this relationship also extends to retweets (and thus potentially to virality):"
     ]
    },
    {
     "cell_type": "code",
     "collapsed": false,
     "input": [
      "# Get Twitter photo coefficient.\n",
      "# Base level of factor is photo, so use level \"text\" and multiply by -1.\n",
      "print 'Derived coefficient for photos on logged scale (for retweets): %.3f' % ((-1) * lm_retweets.coef_[features_lm_tw.index('medium_text')])"
     ],
     "language": "python",
     "metadata": {},
     "outputs": [
      {
       "output_type": "stream",
       "stream": "stdout",
       "text": [
        "Derived coefficient for photos on logged scale (for retweets): 0.505\n"
       ]
      }
     ],
     "prompt_number": 11
    },
    {
     "cell_type": "heading",
     "level": 4,
     "metadata": {},
     "source": [
      "Photos & Videos on Facebook"
     ]
    },
    {
     "cell_type": "markdown",
     "metadata": {},
     "source": [
      "\"Enhanced\" media on Facebook are more interactive and constitute an interaction paradigm wholly apart from the links they accompany. Consider a *Fox News* [video](https://www.facebook.com/video.php?v=10152756927286336):\n",
      "\n",
      "![Fox News video](./img/foxnews_hannity_video.png)\n",
      "\n",
      "The link itself is de-emphasized, hidden under the virtual \"fold\" of the \"See More\" link. One might expect that Facebook videos (and photos, which function similarly) will show diminished click counts, all else equal. This is indeed the case; recall from Facebook's linear regression coefficients above (on the log scale):\n",
      "\n",
      "<table>\n",
      "    <thead><th style=\"text-align: right\">Coefficient</th><th>Feature</th></thead>\n",
      "    <tbody>\n",
      "        <tr><td style=\"text-align: right\">-0.769850</td><td>Medium: Photo</td></tr>\n",
      "        <tr><td style=\"text-align: right\">-0.762604</td><td>Medium: Video</td></tr>\n",
      "    </tbody>\n",
      "</table>\n",
      "\n",
      "**Thus, Facebook videos and photos are expected to experience less than one quarter the link traffic of postings that do not include such media.** This result is perfectly intuitive: if users cannot easily *see* links, they will not follow them. And aggregate data support this conclusion:"
     ]
    },
    {
     "cell_type": "code",
     "collapsed": false,
     "input": [
      "# TODO AGGREGATE CLICK FOR MEDIUM ON FACEBOOK."
     ],
     "language": "python",
     "metadata": {},
     "outputs": []
    },
    {
     "cell_type": "markdown",
     "metadata": {},
     "source": [
      "Non-photo and non-video posts (grouped into the \"other\" category) *vastly* outperform links with such media. And there appears to be little benefit to \"likes\" from such media-heavy posts, as our linear regression model predicts no significant gain in likes for such posts."
     ]
    },
    {
     "cell_type": "markdown",
     "metadata": {},
     "source": [
      "Still, it is reasonable to assume that publishers post videos and photos for a reason. At the time of this writing, the above video had achieved more than 100,000 views in three hours (according to Facebook itself). Even if videos do not necessarily lead to people visiting publishers' websites, it is clear that they garner engagement from Facebook users. The value of such interaction to each organization would make for a fascinating topic of further analysis."
     ]
    }
   ],
   "metadata": {}
  }
 ]
}