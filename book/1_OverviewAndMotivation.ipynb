{
 "metadata": {
  "name": "",
  "signature": "sha256:605a89a85d0b4b498f8c71989079ca2146b1d57e720692bb4268b554fa198e89"
 },
 "nbformat": 3,
 "nbformat_minor": 0,
 "worksheets": [
  {
   "cells": [
    {
     "cell_type": "heading",
     "level": 1,
     "metadata": {},
     "source": [
      "AC 209: Analyzing News Organizations\u2019 Social Media Reach on Facebook & Twitter"
     ]
    },
    {
     "cell_type": "markdown",
     "metadata": {},
     "source": [
      "Authors: Yung-jen Cheng, Micah Lanier, Simon Malian, Jeffrey Shen"
     ]
    },
    {
     "cell_type": "markdown",
     "metadata": {},
     "source": [
      "DELETE LATER\n",
      "\n",
      "\n",
      "From the Data Science Website:\n",
      "\n",
      "Your process book should include the following topics. Depending on your project type the amount of discussion you devote to each of them will vary:\n",
      "\n",
      "Overview and Motivation: Provide an overview of the project goals and the motivation for it. Consider that this will be read by people who did not see your project proposal.\n",
      "Related Work: Anything that inspired you, such as a paper, a web site, or something we discussed in class.\n",
      "Initial Questions: What questions are you trying to answer? How did these questions evolve over the course of the project? What new questions did you consider in the course of your analysis?\n",
      "Data: Source, scraping method, cleanup, etc.\n",
      "Exploratory Analysis: What visualizations did you use to look at your data in different ways? What are the different statistical methods you considered? Justify the decisions you made, and show any major changes to your ideas. How did you reach these conclusions?\n",
      "Final Analysis: What did you learn about the data? How did you answer the questions? How can you justify your answers?\n",
      "As this will be your only chance to describe your project in detail make sure that your process book is a standalone document that fully describes your process and results."
     ]
    },
    {
     "cell_type": "heading",
     "level": 2,
     "metadata": {},
     "source": [
      "Contents"
     ]
    },
    {
     "cell_type": "markdown",
     "metadata": {},
     "source": [
      "The following links will take you directly to items of interest.\n",
      "\n",
      "- [Overview & Motivation](#s1)\n",
      "    - [Related Work](#s1.1)\n",
      "    - [Data Overview](#s1.3)\n",
      "    - [Data Science Methods](#s1.3)\n",
      "- [Data Retrieval](#s2)\n",
      "- [Data \"Merging\" & Wrangling](#s3)\n",
      "- [High-Level Analysis](#s4)\n",
      "- [Clustering on Social Media Metrics and Sentiments](#s5)\n",
      "- [Topic Modeling](#s6)\n",
      "- [Sentiment Analysis](#s7)\n",
      "- [Predictive Analysis](#s8)\n",
      "- [Predictive Analysis: Key Findings](#s9)\n",
      "- [Next Steps](#s10)"
     ]
    },
    {
     "cell_type": "markdown",
     "metadata": {},
     "source": [
      "---"
     ]
    },
    {
     "cell_type": "heading",
     "level": 2,
     "metadata": {},
     "source": [
      "<a id=\"s1\"></a>Overview & Motivation"
     ]
    },
    {
     "cell_type": "markdown",
     "metadata": {},
     "source": [
      "During a recent appearance as part of the IACS seminar series, New York Times Chief Data Scientist Chris Wiggins noted that virtually all news organizations have become startups: they are all firms \u201cin search of a scalable business model.\u201d In response to challenges of the digital age, many \u201ctraditional\u201d news organizations have expanded efforts to promote their content on social media websites like Facebook and Twitter as a new medium to garner traffic and users. We are interested in how these efforts differ among news organizations and how we might predict their success.\n",
      "\n",
      "Stated formally, we have two broad questions about news organization activities on social media. The first is descriptive: how do different organizations use each social network, and how do their social media presences differ? The second is predictive: what measurable features of social media activity can predict popularity of news content? These questions fundamentally guide our later analysis and form the basis of the various angles of analysis that we pursue.\n",
      "\n",
      "We have identified 25 news organizations across several categories (newspapers, cable channels, wire services, etc.) to analyze. They are: The Boston Globe, The Los Angeles Times, The New York Times, The Wall Street Journal, The Washington Post, USA Today, BBC, The Daily Mail, The Guardian, CNN, Fox News, MSNBC, ABC News, CBS News, NBC News, The Daily Beast, The Huffington Post, Slate, Agence France-Presse, The Associated Press, Reuters, Newsweek, Time, Yahoo News, and NPR News.\n",
      "\n",
      "Note that API configuration information is designed to be stored *outside* of the repository, as committing it to a public Github repository is (obviously) not a good idea. Raw data is (mostly) stored outside of Github as well, as it is quite voluminous and represents others' copyrighted work. That will limit the reader's ability to run this code as-is, but the authors are happy to assist where feasible."
     ]
    },
    {
     "cell_type": "heading",
     "level": 3,
     "metadata": {},
     "source": [
      "<a id=\"s1.1\"></a>Related Work"
     ]
    },
    {
     "cell_type": "markdown",
     "metadata": {},
     "source": [
      "Several of last year's [projects](http://rabeeaa.wordpress.com/cs109-final-project/) utilized social media data for analytical purposes, and researchers have begun to mine social media data to quite [startling ends](http://newsinfo.iu.edu/news-archive/16074.html). Rather than mine aggregate, general data, we have opted to focus on a narrower selection of accounts across media (both Facebook and Twitter) to divine details about the particular social strategies that they exhibit.\n",
      "\n",
      "While we believe that our analysis is unique in its breadth, our work is certainly inspired by past social media analysis of news content. Brian Abelson\u2019s [Pageviews Above Replacement](http://brianabelson.com/open-news/2013/11/14/Pageviews-above-replacement.html) paints a fascinating picture of pageviews that accrue to different types of content that [@nytimes](http://www.twitter.com/nytimes/) shares on Twitter, and lends insight into the potential strategic changes that might yield more traffic. Other enterprising engineers have, for example, built a Twitter bot that performs sentiment analysis on comments posted to [nytimes.com](http://www.nytimes.com/) and reports on their aggregate positivity/negativity (this work has proven hard to find). Finally, Bitly [analyzed social media traffic](http://blog.bitly.com/post/22663850994/time-is-on-your-side) to its own links in 2012; their analysis is directly relevant to the last section of our submission, which relates to timing of social media posts.\n",
      "\n",
      "Notably, one of our team members worked previously for a major news organization and worked on a project with a team that analyzed the behavior of users \u201cacquired\u201d through social media channels. Without revealing many specifics, the analysis suggested that social media represent a promising audience-building tool if chanelled effectively. These two analyses are complementary: his prior analysis focused on user behavior *after* arrival on the website, while this project focuses on the social media activity that cultivated that traffic to begin with."
     ]
    },
    {
     "cell_type": "heading",
     "level": 3,
     "metadata": {},
     "source": [
      "<a id=\"s1.2\"></a>Data Overview"
     ]
    },
    {
     "cell_type": "markdown",
     "metadata": {},
     "source": [
      "At a high level, our analysis utilizes data from four primary sources: Twitter, Facebook, Bitly, and a custom-built dataset of the final destinations of each link that our news organizations post. Methods of generating each (done through a combination of APIs and web scraping) are discussed in the next section.\n",
      "\n",
      "For context these figures convey the volume of records that we retreived from each data source:\n",
      "\n",
      "<table style=\"width: 30%\">\n",
      "<thead><th>Data Source</th><th style=\"text-align: right\">Records</th></thead>\n",
      "<tbody>\n",
      "    <tr><td>Twitter (Tweets)</td><td style=\"text-align: right\">119,010</td></tr>\n",
      "    <tr><td>Facebook (Posts)</td><td style=\"text-align: right\">53,493</td></tr>\n",
      "    <tr><td>Articles Matched</td><td style=\"text-align: right\">23,633</td></tr>\n",
      "    <tr><td>Bitly (Click Rates)</td><td style=\"text-align: right\">TODO for 23 organizations</td></tr>\n",
      "    <tr><td>URL Paths</td><td style=\"text-align: right\">TODO</td></tr>\n",
      "</tbody></table>\n",
      "\n",
      "In the case of tweets and posts, we *retrieved* somewhat more content than we used for the bulk of our analysis, as some organizations (particularly on Twitter) have posting patterns that ease the retrieval of older posts (discussed below under Twitter data retrieval). Analyzing data spread across distinct time periods introduces heterogeneity concerns, but may be useful for things like topic modelling.\n",
      "\n",
      "**Here are some examples of data that we are able to assemble from Twitter, Facebook, and Bitly.**\n",
      "\n",
      "[**Twitter:**](https://twitter.com/FoxNews/status/532568275498987520)\n",
      "![Fox News Comet Landing Twitter Post.](./img/Fox News Comet Tweet.png)\n",
      "As seen above, the Twitter post has 281 retweets 313 favorites.\n",
      "\n",
      "[**Twitter Bitly:**](https://bitly.com/1wlWdKh+)\n",
      "![Fox News Comet Landing Bitly Link Counts.](./img/Fox News Twitter Bitly Stats.png)\n",
      "The Twitter link https://bitly.com/1wlWdKh has been clicked 2,267 times.\n",
      "\n",
      "[**Facebook:**](https://www.facebook.com/FoxNews/posts/10152671941536336)\n",
      "![Fox News Comet Landing Facebook Post.](./img/Fox News Video Post.png)\n",
      "The Facebook post has 16,956 likes and 5,396 shares.\n",
      "\n",
      "[**Facebook Bitly:**](https://bitly.com/1u1UAmG+)\n",
      "![Fox News Comet Landing Facebook Post.](./img/Fox News Facebook Bitly Stats.png)\n",
      "The Facebook link https://bitly.com/1u1UAmG has been clicked 4,299 times.\n",
      "\n",
      "Using the information above, we are able to compile the data above into dataframes such as this:\n",
      "<table style=\"width: 100%\">\n",
      "<thead><th>Twitter Bitly</th><th>Retweets</th><th>Favorites</th><th>Twitter Bitly Link Clicks</th><th>Facebook Bitly</th><th>Likes</th><th>Shares</th><th>Facebook Bitly Link Clicks</th></thead>\n",
      "<tbody>\n",
      "<tr><td>https://bitly.com/1wlWdKh</td><td>281</td><td>313</td><td>2,267</td><td>https://bitly.com/1u1UAmG</td><td>16,956</td><td>5,396</td><td>4,299</td></tr>\n",
      "</tbody></table>\n",
      "\n",
      "\n",
      "We also make use of several \"auxiliary\" datasets at various points in our analysis. Via-[NLTK](http://www.nltk.org/), we apply [WordNet](http://wordnet.princeton.edu/) and [SentiWordNet](http://sentiwordnet.isti.cnr.it) in sentiment analysis, as well as pre-trained part-of-speech classifiers.\n",
      "\n",
      "TODO: Show where they can download the data"
     ]
    },
    {
     "cell_type": "heading",
     "level": 3,
     "metadata": {},
     "source": [
      "<a id=\"s1.3\"></a>Data Science Methods"
     ]
    },
    {
     "cell_type": "markdown",
     "metadata": {},
     "source": [
      "This analysis makes use of several data science methods discussed in [CS 109](http://cs109.github.io/). We have also used the opportunity to broaden our horizons and learn more about concepts not covered in the class (e.g., natural language processing, regression trees).\n",
      "\n",
      "Data wrangling and analysis tools employed:\n",
      "\n",
      "- API-based data retrieval of Twitter, Facebook, and Bitly data.\n",
      "- Web scraping of Twitter search results (to circumvent API retrival limitations) and URL paths (to understand the final destinations of social media links).\n",
      "- Data visualization of diverse and heterogeneous data sources.\n",
      "- Data engineering and data \"wrangling.\" **This effort was far more complex than anything discussed in class, and we believe that our work represents a particularly sophisticated engineering effort.**\n",
      "\n",
      "Unsupervised Machine Learning tools:\n",
      "\n",
      "- K Means clustering to group news organizations based on their social media metrics.\n",
      "\n",
      "Natural language processing tools:\n",
      "\n",
      "- Topic modeling for understanding the subject matter of social media posts.\n",
      "- Sentiment analysis for analyzing positivity, negativity, and neutrality of posts.\n",
      "\n",
      "Predictive analysis tools employed:\n",
      "\n",
      "- Ridge regression for building powerful, interpretable prediction models that minimize overfitting.\n",
      "- Random forest regression for building (hopefully) more powerful regression models at the expense of interpretability.\n",
      "\n",
      "Coursework did not deal significantly with natural language processing or regression, so the tuning and implementation of these models required additional effort."
     ]
    },
    {
     "cell_type": "code",
     "collapsed": false,
     "input": [],
     "language": "python",
     "metadata": {},
     "outputs": []
    }
   ],
   "metadata": {}
  }
 ]
}