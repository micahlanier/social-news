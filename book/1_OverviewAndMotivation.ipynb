{
 "metadata": {
  "name": "",
  "signature": "sha256:b9e9c3f703cfa167479838e857a4a9800b62c836adcfdd860b2218d854629543"
 },
 "nbformat": 3,
 "nbformat_minor": 0,
 "worksheets": [
  {
   "cells": [
    {
     "cell_type": "heading",
     "level": 1,
     "metadata": {},
     "source": [
      "AC 209: Analyzing News Organizations\u2019 Social Media Reach on Facebook & Twitter"
     ]
    },
    {
     "cell_type": "markdown",
     "metadata": {},
     "source": [
      "Authors: Yung-jen Cheng, Micah Lanier, Simon Malian, Jeffrey Shen"
     ]
    },
    {
     "cell_type": "markdown",
     "metadata": {},
     "source": [
      "DELETE LATER\n",
      "\n",
      "\n",
      "From the Data Science Website:\n",
      "\n",
      "Your process book should include the following topics. Depending on your project type the amount of discussion you devote to each of them will vary:\n",
      "\n",
      "Overview and Motivation: Provide an overview of the project goals and the motivation for it. Consider that this will be read by people who did not see your project proposal.\n",
      "Related Work: Anything that inspired you, such as a paper, a web site, or something we discussed in class.\n",
      "Initial Questions: What questions are you trying to answer? How did these questions evolve over the course of the project? What new questions did you consider in the course of your analysis?\n",
      "Data: Source, scraping method, cleanup, etc.\n",
      "Exploratory Analysis: What visualizations did you use to look at your data in different ways? What are the different statistical methods you considered? Justify the decisions you made, and show any major changes to your ideas. How did you reach these conclusions?\n",
      "Final Analysis: What did you learn about the data? How did you answer the questions? How can you justify your answers?\n",
      "As this will be your only chance to describe your project in detail make sure that your process book is a standalone document that fully describes your process and results."
     ]
    },
    {
     "cell_type": "heading",
     "level": 2,
     "metadata": {},
     "source": [
      "Contents"
     ]
    },
    {
     "cell_type": "markdown",
     "metadata": {},
     "source": [
      "The following links will take you directly to items of interest.\n",
      "\n",
      "- [Overview & Motivation](#s1)\n",
      "    - Related Work\n",
      "    - Data Overview\n",
      "    - Data Science Methods\n",
      "- Data Retrieval\n",
      "- Feature Engineering\n",
      "- etc."
     ]
    },
    {
     "cell_type": "markdown",
     "metadata": {},
     "source": [
      "---"
     ]
    },
    {
     "cell_type": "heading",
     "level": 2,
     "metadata": {},
     "source": [
      "<a id=\"s1\"></a>Overview & Motivation"
     ]
    },
    {
     "cell_type": "markdown",
     "metadata": {},
     "source": [
      "During a recent appearance as part of the IACS seminar series, New York Times Chief Data Scientist Chris Wiggins noted that virtually all news organizations have become startups: they are all firms \u201cin search of a scalable business model.\u201d In response to challenges of the digital age, many \u201ctraditional\u201d news organizations have expanded efforts to promote their content on social media websites like Facebook and Twitter as a new medium to garner traffic and users. We are interested in how these efforts differ among news organizations and how we might predict their success.\n",
      "\n",
      "Stated formally, we have two broad questions about news organization activities on social media. The first is descriptive: how do different organizations use each social network, and how do their social media presences differ? The second is predictive: what measurable features of social media activity can predict popularity of news content? More particulars are enumerated under the \u201cobjectives\u201d heading.\n",
      "\n",
      "We have identified 25 news organizations across several categories (newspapers, cable news channels, international sources, etc.) to analyze. They are: The Boston Globe, The Los Angeles Times, The New York Times, The Wall Street Journal, The Washington Post, USA Today, BBC, The Daily Mail, The Guardian, CNN, Fox News, MSNBC, ABC News, CBS News, NBC News, The Daily Beast, The Huffington Post, Slate, Agence France-Presse, The Associated Press, Reuters, Newsweek, Time, Yahoo News, and NPR News.\n",
      "\n",
      "Note that API configuration information is designed to be stored *outside* of the repository, as committing it to a public Github repository is (obviously) not a good idea. Raw data is (mostly) stored outside of Github as well, as it is quite voluminous and represents others' copyrighted work. That will limit the reader's ability to run this code as-is, but the authors are happy to assist where feasible."
     ]
    },
    {
     "cell_type": "heading",
     "level": 3,
     "metadata": {},
     "source": [
      "Related Work"
     ]
    },
    {
     "cell_type": "markdown",
     "metadata": {},
     "source": [
      "Several of last year's [projects](http://rabeeaa.wordpress.com/cs109-final-project/) utilized social media data for analytical purposes, and researchers have begun to mine social media data to quite [startling ends](http://newsinfo.iu.edu/news-archive/16074.html). Rather than mine aggregate, general data, we have opted to focus on a narrower selection of accounts across media (both Facebook and Twitter) to divine details about the particular social strategies that they exhibit.\n",
      "\n",
      "While we believe that our analysis is unique in its breadth, our work is certainly inspired by past social media analysis of news content. Brian Abelson\u2019s [Pageviews Above Replacement](http://brianabelson.com/open-news/2013/11/14/Pageviews-above-replacement.html) paints a fascinating picture of pageviews that accrue to different types of content that [@nytimes](http://www.twitter.com/nytimes/) shares on Twitter, and lends insight into the potential strategic changes that might yield more traffic. Other enterprising engineers have, for example, built a Twitter bot that performs sentiment analysis on comments posted to [nytimes.com](http://www.nytimes.com/) and reports on their aggregate positivity/negativity (this work has proven hard to find).\n",
      "\n",
      "Finally, one of our team members worked previously for a major news organization and worked with a team that analyzed the behavior of users \u201cacquired\u201d through social media channels. Without revealing many specifics, the analysis suggested that social media represent a promising audience-building tool if utilized effectively."
     ]
    },
    {
     "cell_type": "heading",
     "level": 3,
     "metadata": {},
     "source": [
      "Data Overview"
     ]
    },
    {
     "cell_type": "markdown",
     "metadata": {},
     "source": [
      "At a high level, our analysis utilizes data from four primary sources: Twitter, Facebook, Bitly, and a custom-built dataset of the final destinations of each link that our news organizations post. Methods of generating each (done through a combination of APIs and web scraping) are discussed below.\n",
      "\n",
      "TODO: big numbers about content.\n",
      "\n",
      "TODO: some screen shots of actual data\n",
      "\n",
      "We also make use of several \"auxiliary\" datasets at various points in our analysis. Via-[NLTK](http://www.nltk.org/), we apply [WordNet](http://wordnet.princeton.edu/) and [SentiWordNet](http://sentiwordnet.isti.cnr.it) in sentiment analysis, as well as pre-trained part-of-speech classifiers."
     ]
    },
    {
     "cell_type": "heading",
     "level": 3,
     "metadata": {},
     "source": [
      "Data Science Methods"
     ]
    },
    {
     "cell_type": "markdown",
     "metadata": {},
     "source": [
      "TODO: Discussion of actual methods employed."
     ]
    }
   ],
   "metadata": {}
  }
 ]
}