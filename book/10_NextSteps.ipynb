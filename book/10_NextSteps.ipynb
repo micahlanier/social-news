{
 "metadata": {
  "name": "",
  "signature": "sha256:c99e0d3e93fc06b471ee62bedd38d9125e8a2a1eb5a6a95f6a2240666a4e95f9"
 },
 "nbformat": 3,
 "nbformat_minor": 0,
 "worksheets": [
  {
   "cells": [
    {
     "cell_type": "heading",
     "level": 2,
     "metadata": {},
     "source": [
      "Next Steps"
     ]
    },
    {
     "cell_type": "markdown",
     "metadata": {},
     "source": [
      "Given more time, we would have enjoyed expanding our analysis in several dimensions. This section contains some notes on further topics and questions that we are interested in analyzing."
     ]
    },
    {
     "cell_type": "heading",
     "level": 3,
     "metadata": {},
     "source": [
      "More Data"
     ]
    },
    {
     "cell_type": "markdown",
     "metadata": {},
     "source": [
      "Due primarily to the limitations of the Twitter API, our analysis only applies to recent months of social media activity. Our Twitter data extends back to October 1; Facebook data to September 1. Data for several months in the future would provide several benefits:\n",
      "\n",
      "1. More observations *tend* to make for better predictive models. This is not universally true (especially for models that are fundamentally flawed), but we would hope to find more \"signal\" in a larger dataset.\n",
      "2. We might observe the influence of future news events on social media activity. Our dataset missed many news events in the past, including early coverage of the 2014 US midterm elections (though we obtained *lots* of recent coverage about it). Our window includes very little of the recent Michael Brown and Eric Garner grand jury decision coverage, reactions to *Rolling Stone*'s UVA sexual assault coverage, or other very recent stories. Looking to the future, news coverage of a newly-Republican US Senate and the ramp-up of the 2016 Presidential campaign might prove useful for our analysis.\n",
      "3. In the long run, our analysis might help observers understand the changing influence of traditional news organizations on novel social media."
     ]
    },
    {
     "cell_type": "heading",
     "level": 3,
     "metadata": {},
     "source": [
      "Persistent Data Storage"
     ]
    },
    {
     "cell_type": "markdown",
     "metadata": {},
     "source": [
      "Given time constraints and the nature of our data, we had little trouble storing our data in a series of JSON files and joining them together for later analysis. But this process simply would not have scaled. Storing hundreds of thousands of records in this format, especially where there may be significant record overlap (as in the case of progressively-updated Twitter data) raises concerns about reliability, stability, and processing speed.\n",
      "\n",
      "A NoSQL, document storage engine is an ideal fit for at least storing our retrieved data. MongoDB appears to fit the bill perfectly, featuring native compatibility with our existing data storage formats. We eschewed using MongoDB due to the learning curve: our team has some experience using relational databases but no experience with MongoDB. The \"conceptual shift\" to using a NoSQL database made MongoDB appear infeasible given the time available and potential benefit."
     ]
    },
    {
     "cell_type": "heading",
     "level": 3,
     "metadata": {},
     "source": [
      "Further Tuning Predictive Models"
     ]
    },
    {
     "cell_type": "markdown",
     "metadata": {},
     "source": [
      "TODO: things to tune."
     ]
    },
    {
     "cell_type": "heading",
     "level": 3,
     "metadata": {},
     "source": [
      "Enhanced Predictions"
     ]
    },
    {
     "cell_type": "markdown",
     "metadata": {},
     "source": [
      "TODO: new features, new models, new data."
     ]
    },
    {
     "cell_type": "heading",
     "level": 3,
     "metadata": {},
     "source": [
      "Leveraging Topic Modeling"
     ]
    },
    {
     "cell_type": "markdown",
     "metadata": {},
     "source": [
      "While our topic analysis proved enlightening, it proved far more challenging than expected to implement. That limited our ability to employ topic modeling in predictive analysis or analyze the relationship between post subject matter and sentiment. In theory, the subject matter of a social media post (and its linked article) ought to be a *critical* component of its popularity. This is even more so for more specialized news organizations (e.g., the *Wall Street Journal* and its business coverage) or news organizations that are thought to cultivate a more partisan audience (e.g., Fox News and MSNBC)."
     ]
    }
   ],
   "metadata": {}
  }
 ]
}