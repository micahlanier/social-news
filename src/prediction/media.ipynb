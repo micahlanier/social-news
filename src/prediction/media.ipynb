{
 "metadata": {
  "name": "",
  "signature": "sha256:24c1a76bcee84c0c459e787ddfa933175c1e8b2be005255eecb27f80ade995b1"
 },
 "nbformat": 3,
 "nbformat_minor": 0,
 "worksheets": [
  {
   "cells": [
    {
     "cell_type": "heading",
     "level": 1,
     "metadata": {},
     "source": [
      "Facebook & Twitter Media: Predictive Analysis"
     ]
    }
   ],
   "metadata": {}
  }
 ]
}