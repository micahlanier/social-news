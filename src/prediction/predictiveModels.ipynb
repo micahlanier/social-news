{
 "metadata": {
  "name": "",
  "signature": "sha256:ae49e155ab05be3b943796ae1628cc1fa576fe51edd087ec231e912a6328653d"
 },
 "nbformat": 3,
 "nbformat_minor": 0,
 "worksheets": [
  {
   "cells": [
    {
     "cell_type": "heading",
     "level": 1,
     "metadata": {},
     "source": [
      "Predictive Models"
     ]
    },
    {
     "cell_type": "markdown",
     "metadata": {},
     "source": [
      "This script generates our predictive models."
     ]
    },
    {
     "cell_type": "heading",
     "level": 2,
     "metadata": {},
     "source": [
      "Setup"
     ]
    },
    {
     "cell_type": "code",
     "collapsed": false,
     "input": [
      "# Libraries.\n",
      "%matplotlib inline\n",
      "from matplotlib import pyplot as plt\n",
      "import numpy as np\n",
      "import pandas as pd\n",
      "import random\n",
      "import seaborn as sns\n",
      "\n",
      "# Prediction libraries.\n",
      "from sklearn import svm\n",
      "from sklearn.ensemble import RandomForestRegressor\n",
      "from sklearn import grid_search\n",
      "\n",
      "# Library settings.\n",
      "pd.options.display.max_columns = 50"
     ],
     "language": "python",
     "metadata": {},
     "outputs": [],
     "prompt_number": 5
    },
    {
     "cell_type": "code",
     "collapsed": false,
     "input": [
      "# Data.\n",
      "tw = pd.read_csv('../../../data/unmergedPostSummaries/twitter.csv')\n",
      "fb = pd.read_csv('../../../data/unmergedPostSummaries/facebook.csv')\n",
      "\n",
      "# Track special columns.\n",
      "outcomeCols_lin = ['clicks','retweets','favorites','likes','shares','comments']\n",
      "twSpecificCols = set(tw.columns).difference(fb.columns)\n",
      "fbSpecificCols = set(fb.columns).difference(tw.columns)\n",
      "binaryCols = ['weekend_utc','weekend_est','retweeted']\n",
      "categoricalCols = binaryCols+['medium','org','org_category','medium','sentiment_class','service','day_of_week_utc','day_of_week_est']\n",
      "\n",
      "# Calculate normalized columns.\n",
      "for o in twSpecificCols.intersection(outcomeCols_lin):\n",
      "    tw[o+'_normalized'] = tw[o].astype('float') / tw['followers_count'].astype('float')\n",
      "tw['clicks_normalized'] = tw['clicks'].astype('float') / tw['followers_count'].astype('float')\n",
      "for o in fbSpecificCols.intersection(outcomeCols_lin):\n",
      "    fb[o+'_normalized'] = fb[o].astype('float') / fb['account_likes'].astype('float')\n",
      "fb['clicks_normalized'] = fb['clicks'].astype('float') / fb['account_likes'].astype('float')\n",
      "\n",
      "# Keep track of new columns.\n",
      "outcomeCols_norm = [c+'_normalized' for c in outcomeCols_lin]\n",
      "\n",
      "# Log columns as desired.\n",
      "tw['clicks_normalized_log'] = np.log(tw['clicks_normalized'])\n",
      "fb['clicks_normalized_log'] = np.log(fb['clicks_normalized'])\n",
      "\n",
      "# Keep track of new columns.\n",
      "outcomeCols_norm_log = ['clicks_normalized_log']\n",
      "\n",
      "# Combine. Not all columns overlap.\n",
      "twfb = tw.append(fb)\n",
      "\n",
      "# Generate categorical columns.\n",
      "for c in categoricalCols:\n",
      "    twfb[c] = pd.get_dummies(twfb[c])\n",
      "    if c not in twSpecificCols:\n",
      "        tw[c] = pd.get_dummies(fb[c])\n",
      "    if c not in fbSpecificCols:\n",
      "        tw[c] = pd.get_dummies(tw[c])"
     ],
     "language": "python",
     "metadata": {},
     "outputs": [],
     "prompt_number": 2
    },
    {
     "cell_type": "heading",
     "level": 2,
     "metadata": {},
     "source": [
      "Models"
     ]
    },
    {
     "cell_type": "heading",
     "level": 3,
     "metadata": {},
     "source": [
      "Clicks"
     ]
    },
    {
     "cell_type": "code",
     "collapsed": false,
     "input": [
      "# Set up our outcomes and features.\n",
      "X = twfb[['clicks_normalized','day_of_week_est','medium','org','sentiment_class','sentiment_score_negative','sentiment_score_positive','service','time_est','word_count']]\n",
      "X = X.dropna()\n",
      "y = X.clicks_normalized\n",
      "y = y * 1000 # Scale for easier measurement.\n",
      "del X['clicks_normalized']"
     ],
     "language": "python",
     "metadata": {},
     "outputs": [],
     "prompt_number": 3
    },
    {
     "cell_type": "heading",
     "level": 4,
     "metadata": {},
     "source": [
      "Random Forest"
     ]
    },
    {
     "cell_type": "code",
     "collapsed": false,
     "input": [
      "# Parameters for RFR tuning.\n",
      "rfrParams = {'n_estimators': range(10,21)}\n",
      "# Start the model.\n",
      "rfr = RandomForestRegressor()\n",
      "# Start grid search, cross-validation.\n",
      "gscv = grid_search.GridSearchCV(rfr, rfrParams, scoring='mean_squared_error')\n",
      " \n",
      "# Fit our model.\n",
      "gscv.fit(X,y)\n",
      "pass"
     ],
     "language": "python",
     "metadata": {},
     "outputs": []
    },
    {
     "cell_type": "code",
     "collapsed": false,
     "input": [
      "yHat = gscv.best_estimator_.predict(X)\n",
      "print '%.20f' % np.mean(y)\n",
      "print '%.20f' % np.mean(np.abs(y-yHat))\n",
      "print gscv.best_estimator_.score(X,y)\n",
      "print gscv.best_params_"
     ],
     "language": "python",
     "metadata": {},
     "outputs": [
      {
       "output_type": "stream",
       "stream": "stdout",
       "text": [
        "0.95508803544788500872\n",
        "0.50566053234204844102\n",
        "0.798093473291"
       ]
      },
      {
       "output_type": "stream",
       "stream": "stdout",
       "text": [
        "\n",
        "{'n_estimators': 17}\n"
       ]
      }
     ],
     "prompt_number": 114
    },
    {
     "cell_type": "heading",
     "level": 4,
     "metadata": {},
     "source": [
      "SVR"
     ]
    },
    {
     "cell_type": "code",
     "collapsed": false,
     "input": [
      "i = random.sample(X.index, 10000)\n",
      "X_test = X.ix[i]\n",
      "y_test = y.ix[i]\n",
      "svr = svm.SVR()\n",
      "svr.fit(X_test,y_test)"
     ],
     "language": "python",
     "metadata": {},
     "outputs": [
      {
       "metadata": {},
       "output_type": "pyout",
       "prompt_number": 11,
       "text": [
        "SVR(C=1.0, cache_size=200, coef0=0.0, degree=3, epsilon=0.1, gamma=0.0,\n",
        "  kernel='rbf', max_iter=-1, probability=False, random_state=None,\n",
        "  shrinking=True, tol=0.001, verbose=False)"
       ]
      }
     ],
     "prompt_number": 11
    },
    {
     "cell_type": "code",
     "collapsed": false,
     "input": [
      "svr.score(X_test,y_test)"
     ],
     "language": "python",
     "metadata": {},
     "outputs": [
      {
       "metadata": {},
       "output_type": "pyout",
       "prompt_number": 13,
       "text": [
        "0.0014594473465908697"
       ]
      }
     ],
     "prompt_number": 13
    }
   ],
   "metadata": {}
  }
 ]
}