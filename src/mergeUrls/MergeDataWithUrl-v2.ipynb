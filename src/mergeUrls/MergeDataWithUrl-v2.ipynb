{
 "metadata": {
  "name": "",
  "signature": "sha256:b8cb2a075d3a0e0717be50a9fb6a8b3b269f48a4db01bc008fe3426e36743648"
 },
 "nbformat": 3,
 "nbformat_minor": 0,
 "worksheets": [
  {
   "cells": [
    {
     "cell_type": "code",
     "collapsed": false,
     "input": [
      "# Libraries.\n",
      "import json\n",
      "import os\n",
      "import pandas as pd\n",
      "from urlparse import urlparse"
     ],
     "language": "python",
     "metadata": {},
     "outputs": [],
     "prompt_number": 1
    },
    {
     "cell_type": "markdown",
     "metadata": {},
     "source": [
      "#Setup File Paths#"
     ]
    },
    {
     "cell_type": "code",
     "collapsed": false,
     "input": [
      "sources = ['twitter','facebook']"
     ],
     "language": "python",
     "metadata": {},
     "outputs": [],
     "prompt_number": 2
    },
    {
     "cell_type": "code",
     "collapsed": false,
     "input": [
      "print \"The current working directory is\", os.getcwd()"
     ],
     "language": "python",
     "metadata": {},
     "outputs": [
      {
       "output_type": "stream",
       "stream": "stdout",
       "text": [
        "The current working directory is C:\\Users\\JS\\OneDrive\\Documents\\Harvard\\1. AM 209 (Data Science)\\Final Project\n"
       ]
      }
     ],
     "prompt_number": 3
    },
    {
     "cell_type": "code",
     "collapsed": false,
     "input": [
      "#\\Social News\\data"
     ],
     "language": "python",
     "metadata": {},
     "outputs": [],
     "prompt_number": 5
    },
    {
     "cell_type": "code",
     "collapsed": false,
     "input": [
      "pathConsolidated = os.getcwd()+'/Social News/data/3. urls/%s/'"
     ],
     "language": "python",
     "metadata": {},
     "outputs": [],
     "prompt_number": 33
    },
    {
     "cell_type": "code",
     "collapsed": false,
     "input": [
      "pathExtractedUrl = os.getcwd()+'/Social News/data/4. extractedUrl/'"
     ],
     "language": "python",
     "metadata": {},
     "outputs": [],
     "prompt_number": 40
    },
    {
     "cell_type": "code",
     "collapsed": false,
     "input": [
      "pathMergedUrl = os.getcwd()+'/Social News/data/5. mergedUrls/'"
     ],
     "language": "python",
     "metadata": {},
     "outputs": [],
     "prompt_number": 41
    },
    {
     "cell_type": "code",
     "collapsed": false,
     "input": [
      "# Get all files to traverse. Assume that we can get everything in consolidated folder.\n",
      "postFiles = []\n",
      "for source in sources:\n",
      "    sourcePath = pathConsolidated % source\n",
      "    postFiles += [(source,p[:p.find('-')],sourcePath + p) for p in os.listdir(sourcePath) if p[-5:] == '.json']\n"
     ],
     "language": "python",
     "metadata": {},
     "outputs": [],
     "prompt_number": 36
    },
    {
     "cell_type": "code",
     "collapsed": false,
     "input": [
      "postFiles"
     ],
     "language": "python",
     "metadata": {},
     "outputs": [
      {
       "metadata": {},
       "output_type": "pyout",
       "prompt_number": 12,
       "text": [
        "[('twitter',\n",
        "  'abcnews.jso',\n",
        "  'C:\\\\Users\\\\JS\\\\OneDrive\\\\Documents\\\\Harvard\\\\1. AM 209 (Data Science)\\\\Final Project/Social News/data/3. urls/twitterabcnews.json'),\n",
        " ('twitter',\n",
        "  'afp.jso',\n",
        "  'C:\\\\Users\\\\JS\\\\OneDrive\\\\Documents\\\\Harvard\\\\1. AM 209 (Data Science)\\\\Final Project/Social News/data/3. urls/twitterafp.json'),\n",
        " ('twitter',\n",
        "  'ap.jso',\n",
        "  'C:\\\\Users\\\\JS\\\\OneDrive\\\\Documents\\\\Harvard\\\\1. AM 209 (Data Science)\\\\Final Project/Social News/data/3. urls/twitterap.json'),\n",
        " ('twitter',\n",
        "  'bbc.jso',\n",
        "  'C:\\\\Users\\\\JS\\\\OneDrive\\\\Documents\\\\Harvard\\\\1. AM 209 (Data Science)\\\\Final Project/Social News/data/3. urls/twitterbbc.json'),\n",
        " ('twitter',\n",
        "  'bostonglobe.jso',\n",
        "  'C:\\\\Users\\\\JS\\\\OneDrive\\\\Documents\\\\Harvard\\\\1. AM 209 (Data Science)\\\\Final Project/Social News/data/3. urls/twitterbostonglobe.json'),\n",
        " ('twitter',\n",
        "  'cbsnews.jso',\n",
        "  'C:\\\\Users\\\\JS\\\\OneDrive\\\\Documents\\\\Harvard\\\\1. AM 209 (Data Science)\\\\Final Project/Social News/data/3. urls/twittercbsnews.json'),\n",
        " ('twitter',\n",
        "  'cnn.jso',\n",
        "  'C:\\\\Users\\\\JS\\\\OneDrive\\\\Documents\\\\Harvard\\\\1. AM 209 (Data Science)\\\\Final Project/Social News/data/3. urls/twittercnn.json'),\n",
        " ('twitter',\n",
        "  'dailymail.jso',\n",
        "  'C:\\\\Users\\\\JS\\\\OneDrive\\\\Documents\\\\Harvard\\\\1. AM 209 (Data Science)\\\\Final Project/Social News/data/3. urls/twitterdailymail.json'),\n",
        " ('twitter',\n",
        "  'foxnews.jso',\n",
        "  'C:\\\\Users\\\\JS\\\\OneDrive\\\\Documents\\\\Harvard\\\\1. AM 209 (Data Science)\\\\Final Project/Social News/data/3. urls/twitterfoxnews.json'),\n",
        " ('twitter',\n",
        "  'huffingtonpost.jso',\n",
        "  'C:\\\\Users\\\\JS\\\\OneDrive\\\\Documents\\\\Harvard\\\\1. AM 209 (Data Science)\\\\Final Project/Social News/data/3. urls/twitterhuffingtonpost.json'),\n",
        " ('twitter',\n",
        "  'latimes.jso',\n",
        "  'C:\\\\Users\\\\JS\\\\OneDrive\\\\Documents\\\\Harvard\\\\1. AM 209 (Data Science)\\\\Final Project/Social News/data/3. urls/twitterlatimes.json'),\n",
        " ('twitter',\n",
        "  'msnbc.jso',\n",
        "  'C:\\\\Users\\\\JS\\\\OneDrive\\\\Documents\\\\Harvard\\\\1. AM 209 (Data Science)\\\\Final Project/Social News/data/3. urls/twittermsnbc.json'),\n",
        " ('twitter',\n",
        "  'nbcnews.jso',\n",
        "  'C:\\\\Users\\\\JS\\\\OneDrive\\\\Documents\\\\Harvard\\\\1. AM 209 (Data Science)\\\\Final Project/Social News/data/3. urls/twitternbcnews.json'),\n",
        " ('twitter',\n",
        "  'newsweek.jso',\n",
        "  'C:\\\\Users\\\\JS\\\\OneDrive\\\\Documents\\\\Harvard\\\\1. AM 209 (Data Science)\\\\Final Project/Social News/data/3. urls/twitternewsweek.json'),\n",
        " ('twitter',\n",
        "  'npr.jso',\n",
        "  'C:\\\\Users\\\\JS\\\\OneDrive\\\\Documents\\\\Harvard\\\\1. AM 209 (Data Science)\\\\Final Project/Social News/data/3. urls/twitternpr.json'),\n",
        " ('twitter',\n",
        "  'nytimes.jso',\n",
        "  'C:\\\\Users\\\\JS\\\\OneDrive\\\\Documents\\\\Harvard\\\\1. AM 209 (Data Science)\\\\Final Project/Social News/data/3. urls/twitternytimes.json'),\n",
        " ('twitter',\n",
        "  'reuters.jso',\n",
        "  'C:\\\\Users\\\\JS\\\\OneDrive\\\\Documents\\\\Harvard\\\\1. AM 209 (Data Science)\\\\Final Project/Social News/data/3. urls/twitterreuters.json'),\n",
        " ('twitter',\n",
        "  'slate.jso',\n",
        "  'C:\\\\Users\\\\JS\\\\OneDrive\\\\Documents\\\\Harvard\\\\1. AM 209 (Data Science)\\\\Final Project/Social News/data/3. urls/twitterslate.json'),\n",
        " ('twitter',\n",
        "  'thedailybeast.jso',\n",
        "  'C:\\\\Users\\\\JS\\\\OneDrive\\\\Documents\\\\Harvard\\\\1. AM 209 (Data Science)\\\\Final Project/Social News/data/3. urls/twitterthedailybeast.json'),\n",
        " ('twitter',\n",
        "  'theguardian.jso',\n",
        "  'C:\\\\Users\\\\JS\\\\OneDrive\\\\Documents\\\\Harvard\\\\1. AM 209 (Data Science)\\\\Final Project/Social News/data/3. urls/twittertheguardian.json'),\n",
        " ('twitter',\n",
        "  'time.jso',\n",
        "  'C:\\\\Users\\\\JS\\\\OneDrive\\\\Documents\\\\Harvard\\\\1. AM 209 (Data Science)\\\\Final Project/Social News/data/3. urls/twittertime.json'),\n",
        " ('twitter',\n",
        "  'usatoday.jso',\n",
        "  'C:\\\\Users\\\\JS\\\\OneDrive\\\\Documents\\\\Harvard\\\\1. AM 209 (Data Science)\\\\Final Project/Social News/data/3. urls/twitterusatoday.json'),\n",
        " ('twitter',\n",
        "  'washingtonpost.jso',\n",
        "  'C:\\\\Users\\\\JS\\\\OneDrive\\\\Documents\\\\Harvard\\\\1. AM 209 (Data Science)\\\\Final Project/Social News/data/3. urls/twitterwashingtonpost.json'),\n",
        " ('twitter',\n",
        "  'wsj.jso',\n",
        "  'C:\\\\Users\\\\JS\\\\OneDrive\\\\Documents\\\\Harvard\\\\1. AM 209 (Data Science)\\\\Final Project/Social News/data/3. urls/twitterwsj.json'),\n",
        " ('twitter',\n",
        "  'yahoonews.jso',\n",
        "  'C:\\\\Users\\\\JS\\\\OneDrive\\\\Documents\\\\Harvard\\\\1. AM 209 (Data Science)\\\\Final Project/Social News/data/3. urls/twitteryahoonews.json'),\n",
        " ('facebook',\n",
        "  'abcnews.jso',\n",
        "  'C:\\\\Users\\\\JS\\\\OneDrive\\\\Documents\\\\Harvard\\\\1. AM 209 (Data Science)\\\\Final Project/Social News/data/3. urls/facebookabcnews.json'),\n",
        " ('facebook',\n",
        "  'afp.jso',\n",
        "  'C:\\\\Users\\\\JS\\\\OneDrive\\\\Documents\\\\Harvard\\\\1. AM 209 (Data Science)\\\\Final Project/Social News/data/3. urls/facebookafp.json'),\n",
        " ('facebook',\n",
        "  'ap.jso',\n",
        "  'C:\\\\Users\\\\JS\\\\OneDrive\\\\Documents\\\\Harvard\\\\1. AM 209 (Data Science)\\\\Final Project/Social News/data/3. urls/facebookap.json'),\n",
        " ('facebook',\n",
        "  'bbc.jso',\n",
        "  'C:\\\\Users\\\\JS\\\\OneDrive\\\\Documents\\\\Harvard\\\\1. AM 209 (Data Science)\\\\Final Project/Social News/data/3. urls/facebookbbc.json'),\n",
        " ('facebook',\n",
        "  'bostonglobe.jso',\n",
        "  'C:\\\\Users\\\\JS\\\\OneDrive\\\\Documents\\\\Harvard\\\\1. AM 209 (Data Science)\\\\Final Project/Social News/data/3. urls/facebookbostonglobe.json'),\n",
        " ('facebook',\n",
        "  'cbsnews.jso',\n",
        "  'C:\\\\Users\\\\JS\\\\OneDrive\\\\Documents\\\\Harvard\\\\1. AM 209 (Data Science)\\\\Final Project/Social News/data/3. urls/facebookcbsnews.json'),\n",
        " ('facebook',\n",
        "  'cnn.jso',\n",
        "  'C:\\\\Users\\\\JS\\\\OneDrive\\\\Documents\\\\Harvard\\\\1. AM 209 (Data Science)\\\\Final Project/Social News/data/3. urls/facebookcnn.json'),\n",
        " ('facebook',\n",
        "  'dailymail.jso',\n",
        "  'C:\\\\Users\\\\JS\\\\OneDrive\\\\Documents\\\\Harvard\\\\1. AM 209 (Data Science)\\\\Final Project/Social News/data/3. urls/facebookdailymail.json'),\n",
        " ('facebook',\n",
        "  'foxnews.jso',\n",
        "  'C:\\\\Users\\\\JS\\\\OneDrive\\\\Documents\\\\Harvard\\\\1. AM 209 (Data Science)\\\\Final Project/Social News/data/3. urls/facebookfoxnews.json'),\n",
        " ('facebook',\n",
        "  'huffingtonpost.jso',\n",
        "  'C:\\\\Users\\\\JS\\\\OneDrive\\\\Documents\\\\Harvard\\\\1. AM 209 (Data Science)\\\\Final Project/Social News/data/3. urls/facebookhuffingtonpost.json'),\n",
        " ('facebook',\n",
        "  'latimes.jso',\n",
        "  'C:\\\\Users\\\\JS\\\\OneDrive\\\\Documents\\\\Harvard\\\\1. AM 209 (Data Science)\\\\Final Project/Social News/data/3. urls/facebooklatimes.json'),\n",
        " ('facebook',\n",
        "  'msnbc.jso',\n",
        "  'C:\\\\Users\\\\JS\\\\OneDrive\\\\Documents\\\\Harvard\\\\1. AM 209 (Data Science)\\\\Final Project/Social News/data/3. urls/facebookmsnbc.json'),\n",
        " ('facebook',\n",
        "  'nbcnews.jso',\n",
        "  'C:\\\\Users\\\\JS\\\\OneDrive\\\\Documents\\\\Harvard\\\\1. AM 209 (Data Science)\\\\Final Project/Social News/data/3. urls/facebooknbcnews.json'),\n",
        " ('facebook',\n",
        "  'newsweek.jso',\n",
        "  'C:\\\\Users\\\\JS\\\\OneDrive\\\\Documents\\\\Harvard\\\\1. AM 209 (Data Science)\\\\Final Project/Social News/data/3. urls/facebooknewsweek.json'),\n",
        " ('facebook',\n",
        "  'npr.jso',\n",
        "  'C:\\\\Users\\\\JS\\\\OneDrive\\\\Documents\\\\Harvard\\\\1. AM 209 (Data Science)\\\\Final Project/Social News/data/3. urls/facebooknpr.json'),\n",
        " ('facebook',\n",
        "  'nytimes.jso',\n",
        "  'C:\\\\Users\\\\JS\\\\OneDrive\\\\Documents\\\\Harvard\\\\1. AM 209 (Data Science)\\\\Final Project/Social News/data/3. urls/facebooknytimes.json'),\n",
        " ('facebook',\n",
        "  'reuters.jso',\n",
        "  'C:\\\\Users\\\\JS\\\\OneDrive\\\\Documents\\\\Harvard\\\\1. AM 209 (Data Science)\\\\Final Project/Social News/data/3. urls/facebookreuters.json'),\n",
        " ('facebook',\n",
        "  'slate.jso',\n",
        "  'C:\\\\Users\\\\JS\\\\OneDrive\\\\Documents\\\\Harvard\\\\1. AM 209 (Data Science)\\\\Final Project/Social News/data/3. urls/facebookslate.json'),\n",
        " ('facebook',\n",
        "  'thedailybeast.jso',\n",
        "  'C:\\\\Users\\\\JS\\\\OneDrive\\\\Documents\\\\Harvard\\\\1. AM 209 (Data Science)\\\\Final Project/Social News/data/3. urls/facebookthedailybeast.json'),\n",
        " ('facebook',\n",
        "  'theguardian.jso',\n",
        "  'C:\\\\Users\\\\JS\\\\OneDrive\\\\Documents\\\\Harvard\\\\1. AM 209 (Data Science)\\\\Final Project/Social News/data/3. urls/facebooktheguardian.json'),\n",
        " ('facebook',\n",
        "  'time.jso',\n",
        "  'C:\\\\Users\\\\JS\\\\OneDrive\\\\Documents\\\\Harvard\\\\1. AM 209 (Data Science)\\\\Final Project/Social News/data/3. urls/facebooktime.json'),\n",
        " ('facebook',\n",
        "  'usatoday.jso',\n",
        "  'C:\\\\Users\\\\JS\\\\OneDrive\\\\Documents\\\\Harvard\\\\1. AM 209 (Data Science)\\\\Final Project/Social News/data/3. urls/facebookusatoday.json'),\n",
        " ('facebook',\n",
        "  'washingtonpost.jso',\n",
        "  'C:\\\\Users\\\\JS\\\\OneDrive\\\\Documents\\\\Harvard\\\\1. AM 209 (Data Science)\\\\Final Project/Social News/data/3. urls/facebookwashingtonpost.json'),\n",
        " ('facebook',\n",
        "  'wsj.jso',\n",
        "  'C:\\\\Users\\\\JS\\\\OneDrive\\\\Documents\\\\Harvard\\\\1. AM 209 (Data Science)\\\\Final Project/Social News/data/3. urls/facebookwsj.json'),\n",
        " ('facebook',\n",
        "  'yahoonews.jso',\n",
        "  'C:\\\\Users\\\\JS\\\\OneDrive\\\\Documents\\\\Harvard\\\\1. AM 209 (Data Science)\\\\Final Project/Social News/data/3. urls/facebookyahoonews.json')]"
       ]
      }
     ],
     "prompt_number": 12
    },
    {
     "cell_type": "code",
     "collapsed": false,
     "input": [
      "organizationNames = [x[1].split(\".\")[0] for x in postFiles]"
     ],
     "language": "python",
     "metadata": {},
     "outputs": [],
     "prompt_number": 13
    },
    {
     "cell_type": "code",
     "collapsed": false,
     "input": [
      "organizationNames = set(organizationNames)\n",
      "organizationNames = list(organizationNames)\n",
      "organizationNames.sort()\n",
      "len(organizationNames)"
     ],
     "language": "python",
     "metadata": {},
     "outputs": [
      {
       "metadata": {},
       "output_type": "pyout",
       "prompt_number": 14,
       "text": [
        "25"
       ]
      }
     ],
     "prompt_number": 14
    },
    {
     "cell_type": "markdown",
     "metadata": {},
     "source": [
      "#Data Wrangling#"
     ]
    },
    {
     "cell_type": "code",
     "collapsed": false,
     "input": [
      "columns = ['NewsOrganization', 'PathUrl','matchUrl', 'FullUrl', 'ShortenedUrl', 'HistoryUrls']"
     ],
     "language": "python",
     "metadata": {},
     "outputs": [],
     "prompt_number": 15
    },
    {
     "cell_type": "code",
     "collapsed": false,
     "input": [
      "columns_tw = [\"TW_\" + name for name in columns]\n",
      "columns_fb = [\"FB_\" + name for name in columns]"
     ],
     "language": "python",
     "metadata": {},
     "outputs": [],
     "prompt_number": 16
    },
    {
     "cell_type": "code",
     "collapsed": false,
     "input": [
      "columns_tw"
     ],
     "language": "python",
     "metadata": {},
     "outputs": [
      {
       "metadata": {},
       "output_type": "pyout",
       "prompt_number": 17,
       "text": [
        "['TW_NewsOrganization',\n",
        " 'TW_PathUrl',\n",
        " 'TW_matchUrl',\n",
        " 'TW_FullUrl',\n",
        " 'TW_ShortenedUrl',\n",
        " 'TW_HistoryUrls']"
       ]
      }
     ],
     "prompt_number": 17
    },
    {
     "cell_type": "code",
     "collapsed": false,
     "input": [
      "columns_fb"
     ],
     "language": "python",
     "metadata": {},
     "outputs": [
      {
       "metadata": {},
       "output_type": "pyout",
       "prompt_number": 18,
       "text": [
        "['FB_NewsOrganization',\n",
        " 'FB_PathUrl',\n",
        " 'FB_matchUrl',\n",
        " 'FB_FullUrl',\n",
        " 'FB_ShortenedUrl',\n",
        " 'FB_HistoryUrls']"
       ]
      }
     ],
     "prompt_number": 18
    },
    {
     "cell_type": "code",
     "collapsed": false,
     "input": [
      "#Function used to extract urls from the json objects into a dataframe\n",
      "def extractUrltoDF(filenames, columnNames, socialMedia, destFolder):\n",
      "    rowCount = 0\n",
      "    print columnNames\n",
      "    for organization in filenames:\n",
      "        resultDF = pd.DataFrame(columns=columnNames) \n",
      "        if organization[0] == socialMedia:\n",
      "            print organization[1]\n",
      "            #print organization[2]\n",
      "            data = json.load(open(organization[2]))\n",
      "\n",
      "            #Iterate over dictionary to construct Dataframe\n",
      "            for key, value in data.items():\n",
      "                newOrganization = value['endUrl']['netloc']\n",
      "                pathUrl = value['endUrl']['path']\n",
      "                matchUrl = newOrganization+pathUrl\n",
      "                fullUrl = value['endUrl']['url']\n",
      "                shortenedUrl = key\n",
      "                historyUrl = \"\"\n",
      "                for hUrl in value['history']:\n",
      "                    historyUrl = historyUrl+\"???\"+hUrl\n",
      "                #Save results\n",
      "                resultDF.loc[rowCount] = [newOrganization, pathUrl, matchUrl, fullUrl, shortenedUrl, historyUrl]\n",
      "                rowCount += 1\n",
      "            filename = organization[1].split('.')[0]\n",
      "            resultDF.to_csv(destFolder+filename+'_'+socialMedia+'.csv', encoding='utf-8')\n",
      "            del resultDF\n",
      "    print rowCount\n",
      "    return rowCount"
     ],
     "language": "python",
     "metadata": {},
     "outputs": [],
     "prompt_number": 38
    },
    {
     "cell_type": "markdown",
     "metadata": {},
     "source": [
      "#Twitter Data#"
     ]
    },
    {
     "cell_type": "code",
     "collapsed": false,
     "input": [
      "postFiles[15]"
     ],
     "language": "python",
     "metadata": {},
     "outputs": [
      {
       "metadata": {},
       "output_type": "pyout",
       "prompt_number": 37,
       "text": [
        "('twitter',\n",
        " 'nytimes.jso',\n",
        " 'C:\\\\Users\\\\JS\\\\OneDrive\\\\Documents\\\\Harvard\\\\1. AM 209 (Data Science)\\\\Final Project/Social News/data/3. urls/twitter/nytimes.json')"
       ]
      }
     ],
     "prompt_number": 37
    },
    {
     "cell_type": "code",
     "collapsed": false,
     "input": [
      "#NYTimes example\n",
      "twitterDF = extractUrltoDF([postFiles[15]], columns_tw, 'twitter', pathExtractedUrl)"
     ],
     "language": "python",
     "metadata": {},
     "outputs": [
      {
       "output_type": "stream",
       "stream": "stdout",
       "text": [
        "['TW_NewsOrganization', 'TW_PathUrl', 'TW_matchUrl', 'TW_FullUrl', 'TW_ShortenedUrl', 'TW_HistoryUrls']\n",
        "nytimes.jso\n",
        "5656"
       ]
      },
      {
       "output_type": "stream",
       "stream": "stdout",
       "text": [
        "\n"
       ]
      }
     ],
     "prompt_number": 43
    },
    {
     "cell_type": "code",
     "collapsed": false,
     "input": [
      "#Run all\n",
      "twitterDF = extractUrltoDF(postFiles, columns_tw, 'twitter', pathExtractedUrl)"
     ],
     "language": "python",
     "metadata": {},
     "outputs": [
      {
       "output_type": "stream",
       "stream": "stdout",
       "text": [
        "['TW_NewsOrganization', 'TW_PathUrl', 'TW_matchUrl', 'TW_FullUrl', 'TW_ShortenedUrl', 'TW_HistoryUrls']\n",
        "abcnews.jso\n",
        "afp.jso"
       ]
      },
      {
       "output_type": "stream",
       "stream": "stdout",
       "text": [
        "\n",
        "ap.jso"
       ]
      },
      {
       "output_type": "stream",
       "stream": "stdout",
       "text": [
        "\n",
        "bbc.jso"
       ]
      },
      {
       "output_type": "stream",
       "stream": "stdout",
       "text": [
        "\n",
        "bostonglobe.jso"
       ]
      },
      {
       "output_type": "stream",
       "stream": "stdout",
       "text": [
        "\n",
        "cbsnews.jso"
       ]
      },
      {
       "output_type": "stream",
       "stream": "stdout",
       "text": [
        "\n",
        "cnn.jso"
       ]
      },
      {
       "output_type": "stream",
       "stream": "stdout",
       "text": [
        "\n",
        "dailymail.jso"
       ]
      },
      {
       "output_type": "stream",
       "stream": "stdout",
       "text": [
        "\n",
        "foxnews.jso"
       ]
      },
      {
       "output_type": "stream",
       "stream": "stdout",
       "text": [
        "\n",
        "huffingtonpost.jso"
       ]
      },
      {
       "output_type": "stream",
       "stream": "stdout",
       "text": [
        "\n",
        "latimes.jso"
       ]
      },
      {
       "output_type": "stream",
       "stream": "stdout",
       "text": [
        "\n",
        "msnbc.jso"
       ]
      },
      {
       "output_type": "stream",
       "stream": "stdout",
       "text": [
        "\n",
        "nbcnews.jso"
       ]
      },
      {
       "output_type": "stream",
       "stream": "stdout",
       "text": [
        "\n",
        "newsweek.jso"
       ]
      },
      {
       "output_type": "stream",
       "stream": "stdout",
       "text": [
        "\n",
        "npr.jso"
       ]
      },
      {
       "output_type": "stream",
       "stream": "stdout",
       "text": [
        "\n",
        "nytimes.jso"
       ]
      },
      {
       "output_type": "stream",
       "stream": "stdout",
       "text": [
        "\n",
        "reuters.jso"
       ]
      },
      {
       "output_type": "stream",
       "stream": "stdout",
       "text": [
        "\n",
        "slate.jso"
       ]
      },
      {
       "output_type": "stream",
       "stream": "stdout",
       "text": [
        "\n",
        "thedailybeast.jso"
       ]
      },
      {
       "output_type": "stream",
       "stream": "stdout",
       "text": [
        "\n",
        "theguardian.jso"
       ]
      },
      {
       "output_type": "stream",
       "stream": "stdout",
       "text": [
        "\n",
        "time.jso"
       ]
      },
      {
       "output_type": "stream",
       "stream": "stdout",
       "text": [
        "\n",
        "usatoday.jso"
       ]
      },
      {
       "output_type": "stream",
       "stream": "stdout",
       "text": [
        "\n",
        "washingtonpost.jso"
       ]
      },
      {
       "output_type": "stream",
       "stream": "stdout",
       "text": [
        "\n",
        "wsj.jso"
       ]
      },
      {
       "output_type": "stream",
       "stream": "stdout",
       "text": [
        "\n",
        "yahoonews.jso"
       ]
      },
      {
       "output_type": "stream",
       "stream": "stdout",
       "text": [
        "\n",
        "103391"
       ]
      },
      {
       "output_type": "stream",
       "stream": "stdout",
       "text": [
        "\n"
       ]
      }
     ],
     "prompt_number": 44
    },
    {
     "cell_type": "markdown",
     "metadata": {},
     "source": [
      "#Facebook Data#"
     ]
    },
    {
     "cell_type": "code",
     "collapsed": false,
     "input": [
      "#NYTimes example\n",
      "fbDF = extractUrltoDF([postFiles[40]], columns_fb, 'facebook', pathExtractedUrl)"
     ],
     "language": "python",
     "metadata": {},
     "outputs": [
      {
       "output_type": "stream",
       "stream": "stdout",
       "text": [
        "['FB_NewsOrganization', 'FB_PathUrl', 'FB_matchUrl', 'FB_FullUrl', 'FB_ShortenedUrl', 'FB_HistoryUrls']\n",
        "nytimes.jso\n",
        "4390"
       ]
      },
      {
       "output_type": "stream",
       "stream": "stdout",
       "text": [
        "\n"
       ]
      }
     ],
     "prompt_number": 45
    },
    {
     "cell_type": "code",
     "collapsed": false,
     "input": [
      "#Run all\n",
      "fbDF = extractUrltoDF(postFiles, columns_fb, 'facebook', pathExtractedUrl)"
     ],
     "language": "python",
     "metadata": {},
     "outputs": [
      {
       "output_type": "stream",
       "stream": "stdout",
       "text": [
        "['FB_NewsOrganization', 'FB_PathUrl', 'FB_matchUrl', 'FB_FullUrl', 'FB_ShortenedUrl', 'FB_HistoryUrls']\n",
        "abcnews.jso\n",
        "afp.jso"
       ]
      },
      {
       "output_type": "stream",
       "stream": "stdout",
       "text": [
        "\n",
        "ap.jso"
       ]
      },
      {
       "output_type": "stream",
       "stream": "stdout",
       "text": [
        "\n",
        "bbc.jso"
       ]
      },
      {
       "output_type": "stream",
       "stream": "stdout",
       "text": [
        "\n",
        "bostonglobe.jso"
       ]
      },
      {
       "output_type": "stream",
       "stream": "stdout",
       "text": [
        "\n",
        "cbsnews.jso"
       ]
      },
      {
       "output_type": "stream",
       "stream": "stdout",
       "text": [
        "\n",
        "cnn.jso"
       ]
      },
      {
       "output_type": "stream",
       "stream": "stdout",
       "text": [
        "\n",
        "dailymail.jso"
       ]
      },
      {
       "output_type": "stream",
       "stream": "stdout",
       "text": [
        "\n",
        "foxnews.jso"
       ]
      },
      {
       "output_type": "stream",
       "stream": "stdout",
       "text": [
        "\n",
        "huffingtonpost.jso"
       ]
      },
      {
       "output_type": "stream",
       "stream": "stdout",
       "text": [
        "\n",
        "latimes.jso"
       ]
      },
      {
       "output_type": "stream",
       "stream": "stdout",
       "text": [
        "\n",
        "msnbc.jso"
       ]
      },
      {
       "output_type": "stream",
       "stream": "stdout",
       "text": [
        "\n",
        "nbcnews.jso"
       ]
      },
      {
       "output_type": "stream",
       "stream": "stdout",
       "text": [
        "\n",
        "newsweek.jso"
       ]
      },
      {
       "output_type": "stream",
       "stream": "stdout",
       "text": [
        "\n",
        "npr.jso"
       ]
      },
      {
       "output_type": "stream",
       "stream": "stdout",
       "text": [
        "\n",
        "nytimes.jso"
       ]
      },
      {
       "output_type": "stream",
       "stream": "stdout",
       "text": [
        "\n",
        "reuters.jso"
       ]
      },
      {
       "output_type": "stream",
       "stream": "stdout",
       "text": [
        "\n",
        "slate.jso"
       ]
      },
      {
       "output_type": "stream",
       "stream": "stdout",
       "text": [
        "\n",
        "thedailybeast.jso"
       ]
      },
      {
       "output_type": "stream",
       "stream": "stdout",
       "text": [
        "\n",
        "theguardian.jso"
       ]
      },
      {
       "output_type": "stream",
       "stream": "stdout",
       "text": [
        "\n",
        "time.jso"
       ]
      },
      {
       "output_type": "stream",
       "stream": "stdout",
       "text": [
        "\n",
        "usatoday.jso"
       ]
      },
      {
       "output_type": "stream",
       "stream": "stdout",
       "text": [
        "\n",
        "washingtonpost.jso"
       ]
      },
      {
       "output_type": "stream",
       "stream": "stdout",
       "text": [
        "\n",
        "wsj.jso"
       ]
      },
      {
       "output_type": "stream",
       "stream": "stdout",
       "text": [
        "\n",
        "yahoonews.jso"
       ]
      },
      {
       "output_type": "stream",
       "stream": "stdout",
       "text": [
        "\n",
        "48206"
       ]
      },
      {
       "output_type": "stream",
       "stream": "stdout",
       "text": [
        "\n"
       ]
      }
     ],
     "prompt_number": 46
    },
    {
     "cell_type": "markdown",
     "metadata": {},
     "source": [
      "#Load in Processed Data from above#"
     ]
    },
    {
     "cell_type": "code",
     "collapsed": false,
     "input": [
      "def mergeUrlFiles(inputFolder, outputFolder, orgNames):\n",
      "    \n",
      "    summaryDF = pd.DataFrame(columns=['newsOrg', 'tw_total', 'tw_unique', 'tw_repeat', \n",
      "                                      'fb_total', 'fb_unique', 'fb_repeat', 'merged_unique']) \n",
      "    rowCount = 0\n",
      "    for orgName in orgNames:\n",
      "        print orgName\n",
      "        fb_DF = pd.read_csv( inputFolder+orgName+'_facebook.csv')\n",
      "        fb_DF_unique = fb_DF.drop_duplicates(cols='FB_matchUrl', take_last=False)\n",
      "        tw_DF = pd.read_csv( inputFolder+orgName+'_twitter.csv')\n",
      "        tw_DF_unique = tw_DF.drop_duplicates(cols='TW_matchUrl', take_last=False)\n",
      "        \n",
      "        #\n",
      "        fb_series = fb_DF['FB_matchUrl'].value_counts()\n",
      "        fb_url_count = fb_series.to_frame('Counts')\n",
      "        fb_url_count.to_csv(outputFolder+'DupStat/dup_count_'+orgName+'_fb.csv', encoding='utf-8')\n",
      "        tw_series = tw_DF['TW_matchUrl'].value_counts()\n",
      "        tw_url_count = tw_series.to_frame('Counts')\n",
      "        tw_url_count.to_csv(outputFolder+'DupStat/dup_count_'+orgName+'_tw.csv', encoding='utf-8')\n",
      "        \n",
      "        #tw.groupby('TW_matchUrl').count()\n",
      "        #print fb_DF\n",
      "        #print tw_DF\n",
      "        merged = pd.merge(tw_DF, fb_DF, left_on='TW_matchUrl', right_on='FB_matchUrl', how=\"inner\", left_index=True)\n",
      "        merged.to_csv(outputFolder+orgName+'_merged.csv', encoding='utf-8')\n",
      "        merged_unique = merged.drop_duplicates(cols='TW_matchUrl', take_last=False)\n",
      "        \n",
      "        #Save results\n",
      "        summaryDF.loc[rowCount] = [orgName, tw_DF.shape[0],tw_DF_unique.shape[0],tw_DF.shape[0]-tw_DF_unique.shape[0],\n",
      "                                   fb_DF.shape[0],fb_DF_unique.shape[0],fb_DF.shape[0]-fb_DF_unique.shape[0],\n",
      "                                   merged_unique.shape[0]]\n",
      "        rowCount += 1\n",
      "    return summaryDF\n",
      "    "
     ],
     "language": "python",
     "metadata": {},
     "outputs": [],
     "prompt_number": 50
    },
    {
     "cell_type": "code",
     "collapsed": false,
     "input": [
      "summaryStat = mergeUrlFiles(pathExtractedUrl, pathMergedUrl, ['nytimes'])"
     ],
     "language": "python",
     "metadata": {},
     "outputs": [
      {
       "output_type": "stream",
       "stream": "stdout",
       "text": [
        "nytimes\n"
       ]
      }
     ],
     "prompt_number": 52
    },
    {
     "cell_type": "code",
     "collapsed": false,
     "input": [
      "summaryStat.shape"
     ],
     "language": "python",
     "metadata": {},
     "outputs": [
      {
       "metadata": {},
       "output_type": "pyout",
       "prompt_number": 53,
       "text": [
        "(1, 8)"
       ]
      }
     ],
     "prompt_number": 53
    },
    {
     "cell_type": "code",
     "collapsed": false,
     "input": [
      "summaryStat"
     ],
     "language": "python",
     "metadata": {},
     "outputs": [
      {
       "html": [
        "<div style=\"max-height:1000px;max-width:1500px;overflow:auto;\">\n",
        "<table border=\"1\" class=\"dataframe\">\n",
        "  <thead>\n",
        "    <tr style=\"text-align: right;\">\n",
        "      <th></th>\n",
        "      <th>newsOrg</th>\n",
        "      <th>tw_total</th>\n",
        "      <th>tw_unique</th>\n",
        "      <th>tw_repeat</th>\n",
        "      <th>fb_total</th>\n",
        "      <th>fb_unique</th>\n",
        "      <th>fb_repeat</th>\n",
        "      <th>merged_unique</th>\n",
        "    </tr>\n",
        "  </thead>\n",
        "  <tbody>\n",
        "    <tr>\n",
        "      <th>0</th>\n",
        "      <td> nytimes</td>\n",
        "      <td> 5656</td>\n",
        "      <td> 3373</td>\n",
        "      <td> 2283</td>\n",
        "      <td> 4390</td>\n",
        "      <td> 3832</td>\n",
        "      <td> 558</td>\n",
        "      <td> 1571</td>\n",
        "    </tr>\n",
        "  </tbody>\n",
        "</table>\n",
        "</div>"
       ],
       "metadata": {},
       "output_type": "pyout",
       "prompt_number": 54,
       "text": [
        "   newsOrg tw_total tw_unique tw_repeat fb_total fb_unique fb_repeat  \\\n",
        "0  nytimes     5656      3373      2283     4390      3832       558   \n",
        "\n",
        "  merged_unique  \n",
        "0          1571  "
       ]
      }
     ],
     "prompt_number": 54
    },
    {
     "cell_type": "code",
     "collapsed": false,
     "input": [
      "summaryStat = mergeUrlFiles(pathExtractedUrl, pathMergedUrl, organizationNames)"
     ],
     "language": "python",
     "metadata": {},
     "outputs": [
      {
       "output_type": "stream",
       "stream": "stdout",
       "text": [
        "abcnews\n",
        "afp"
       ]
      },
      {
       "output_type": "stream",
       "stream": "stdout",
       "text": [
        "\n",
        "ap"
       ]
      },
      {
       "output_type": "stream",
       "stream": "stdout",
       "text": [
        "\n",
        "bbc"
       ]
      },
      {
       "output_type": "stream",
       "stream": "stdout",
       "text": [
        "\n",
        "bostonglobe"
       ]
      },
      {
       "output_type": "stream",
       "stream": "stdout",
       "text": [
        "\n",
        "cbsnews"
       ]
      },
      {
       "output_type": "stream",
       "stream": "stdout",
       "text": [
        "\n",
        "cnn"
       ]
      },
      {
       "output_type": "stream",
       "stream": "stdout",
       "text": [
        "\n",
        "dailymail"
       ]
      },
      {
       "output_type": "stream",
       "stream": "stdout",
       "text": [
        "\n",
        "foxnews"
       ]
      },
      {
       "output_type": "stream",
       "stream": "stdout",
       "text": [
        "\n",
        "huffingtonpost"
       ]
      },
      {
       "output_type": "stream",
       "stream": "stdout",
       "text": [
        "\n",
        "latimes"
       ]
      },
      {
       "output_type": "stream",
       "stream": "stdout",
       "text": [
        "\n",
        "msnbc"
       ]
      },
      {
       "output_type": "stream",
       "stream": "stdout",
       "text": [
        "\n",
        "nbcnews"
       ]
      },
      {
       "output_type": "stream",
       "stream": "stdout",
       "text": [
        "\n",
        "newsweek"
       ]
      },
      {
       "output_type": "stream",
       "stream": "stdout",
       "text": [
        "\n",
        "npr"
       ]
      },
      {
       "output_type": "stream",
       "stream": "stdout",
       "text": [
        "\n",
        "nytimes"
       ]
      },
      {
       "output_type": "stream",
       "stream": "stdout",
       "text": [
        "\n",
        "reuters"
       ]
      },
      {
       "output_type": "stream",
       "stream": "stdout",
       "text": [
        "\n",
        "slate"
       ]
      },
      {
       "output_type": "stream",
       "stream": "stdout",
       "text": [
        "\n",
        "thedailybeast"
       ]
      },
      {
       "output_type": "stream",
       "stream": "stdout",
       "text": [
        "\n",
        "theguardian"
       ]
      },
      {
       "output_type": "stream",
       "stream": "stdout",
       "text": [
        "\n",
        "time"
       ]
      },
      {
       "output_type": "stream",
       "stream": "stdout",
       "text": [
        "\n",
        "usatoday"
       ]
      },
      {
       "output_type": "stream",
       "stream": "stdout",
       "text": [
        "\n",
        "washingtonpost"
       ]
      },
      {
       "output_type": "stream",
       "stream": "stdout",
       "text": [
        "\n",
        "wsj"
       ]
      },
      {
       "output_type": "stream",
       "stream": "stdout",
       "text": [
        "\n",
        "yahoonews"
       ]
      },
      {
       "output_type": "stream",
       "stream": "stdout",
       "text": [
        "\n"
       ]
      }
     ],
     "prompt_number": 55
    },
    {
     "cell_type": "code",
     "collapsed": false,
     "input": [
      "summaryStat['MergePercent'] = summaryStat.merged_unique/summaryStat.tw_unique*100"
     ],
     "language": "python",
     "metadata": {},
     "outputs": [],
     "prompt_number": 56
    },
    {
     "cell_type": "code",
     "collapsed": false,
     "input": [
      "summaryStat.sort('MergePercent')"
     ],
     "language": "python",
     "metadata": {},
     "outputs": [
      {
       "html": [
        "<div style=\"max-height:1000px;max-width:1500px;overflow:auto;\">\n",
        "<table border=\"1\" class=\"dataframe\">\n",
        "  <thead>\n",
        "    <tr style=\"text-align: right;\">\n",
        "      <th></th>\n",
        "      <th>newsOrg</th>\n",
        "      <th>tw_total</th>\n",
        "      <th>tw_unique</th>\n",
        "      <th>tw_repeat</th>\n",
        "      <th>fb_total</th>\n",
        "      <th>fb_unique</th>\n",
        "      <th>fb_repeat</th>\n",
        "      <th>merged_unique</th>\n",
        "      <th>MergePercent</th>\n",
        "    </tr>\n",
        "  </thead>\n",
        "  <tbody>\n",
        "    <tr>\n",
        "      <th>19</th>\n",
        "      <td>    theguardian</td>\n",
        "      <td> 7885</td>\n",
        "      <td> 7751</td>\n",
        "      <td>  134</td>\n",
        "      <td> 2223</td>\n",
        "      <td> 2220</td>\n",
        "      <td>    3</td>\n",
        "      <td>   59</td>\n",
        "      <td> 0.7611921</td>\n",
        "    </tr>\n",
        "    <tr>\n",
        "      <th>1 </th>\n",
        "      <td>            afp</td>\n",
        "      <td> 3116</td>\n",
        "      <td> 2569</td>\n",
        "      <td>  547</td>\n",
        "      <td>  439</td>\n",
        "      <td>  386</td>\n",
        "      <td>   53</td>\n",
        "      <td>   28</td>\n",
        "      <td>  1.089918</td>\n",
        "    </tr>\n",
        "    <tr>\n",
        "      <th>3 </th>\n",
        "      <td>            bbc</td>\n",
        "      <td> 3941</td>\n",
        "      <td> 2960</td>\n",
        "      <td>  981</td>\n",
        "      <td> 1531</td>\n",
        "      <td> 1236</td>\n",
        "      <td>  295</td>\n",
        "      <td>   57</td>\n",
        "      <td>  1.925676</td>\n",
        "    </tr>\n",
        "    <tr>\n",
        "      <th>2 </th>\n",
        "      <td>             ap</td>\n",
        "      <td> 3784</td>\n",
        "      <td> 3098</td>\n",
        "      <td>  686</td>\n",
        "      <td>  248</td>\n",
        "      <td>  239</td>\n",
        "      <td>    9</td>\n",
        "      <td>   96</td>\n",
        "      <td>  3.098773</td>\n",
        "    </tr>\n",
        "    <tr>\n",
        "      <th>14</th>\n",
        "      <td>            npr</td>\n",
        "      <td> 3145</td>\n",
        "      <td> 2913</td>\n",
        "      <td>  232</td>\n",
        "      <td> 1448</td>\n",
        "      <td> 1424</td>\n",
        "      <td>   24</td>\n",
        "      <td>  207</td>\n",
        "      <td>  7.106076</td>\n",
        "    </tr>\n",
        "    <tr>\n",
        "      <th>8 </th>\n",
        "      <td>        foxnews</td>\n",
        "      <td> 3199</td>\n",
        "      <td> 2954</td>\n",
        "      <td>  245</td>\n",
        "      <td> 1170</td>\n",
        "      <td>  992</td>\n",
        "      <td>  178</td>\n",
        "      <td>  256</td>\n",
        "      <td>  8.666215</td>\n",
        "    </tr>\n",
        "    <tr>\n",
        "      <th>23</th>\n",
        "      <td>            wsj</td>\n",
        "      <td> 4780</td>\n",
        "      <td> 3524</td>\n",
        "      <td> 1256</td>\n",
        "      <td>  896</td>\n",
        "      <td>  884</td>\n",
        "      <td>   12</td>\n",
        "      <td>  330</td>\n",
        "      <td>  9.364359</td>\n",
        "    </tr>\n",
        "    <tr>\n",
        "      <th>16</th>\n",
        "      <td>        reuters</td>\n",
        "      <td> 3693</td>\n",
        "      <td> 2765</td>\n",
        "      <td>  928</td>\n",
        "      <td>  497</td>\n",
        "      <td>  492</td>\n",
        "      <td>    5</td>\n",
        "      <td>  260</td>\n",
        "      <td>  9.403255</td>\n",
        "    </tr>\n",
        "    <tr>\n",
        "      <th>24</th>\n",
        "      <td>      yahoonews</td>\n",
        "      <td> 4377</td>\n",
        "      <td> 3805</td>\n",
        "      <td>  572</td>\n",
        "      <td> 2067</td>\n",
        "      <td> 1660</td>\n",
        "      <td>  407</td>\n",
        "      <td>  372</td>\n",
        "      <td>   9.77661</td>\n",
        "    </tr>\n",
        "    <tr>\n",
        "      <th>21</th>\n",
        "      <td>       usatoday</td>\n",
        "      <td> 3411</td>\n",
        "      <td> 2589</td>\n",
        "      <td>  822</td>\n",
        "      <td> 1022</td>\n",
        "      <td>  989</td>\n",
        "      <td>   33</td>\n",
        "      <td>  307</td>\n",
        "      <td>  11.85786</td>\n",
        "    </tr>\n",
        "    <tr>\n",
        "      <th>9 </th>\n",
        "      <td> huffingtonpost</td>\n",
        "      <td> 6890</td>\n",
        "      <td> 6657</td>\n",
        "      <td>  233</td>\n",
        "      <td> 3119</td>\n",
        "      <td> 3068</td>\n",
        "      <td>   51</td>\n",
        "      <td> 1135</td>\n",
        "      <td>  17.04972</td>\n",
        "    </tr>\n",
        "    <tr>\n",
        "      <th>10</th>\n",
        "      <td>        latimes</td>\n",
        "      <td> 3316</td>\n",
        "      <td> 3077</td>\n",
        "      <td>  239</td>\n",
        "      <td> 1049</td>\n",
        "      <td> 1039</td>\n",
        "      <td>   10</td>\n",
        "      <td>  530</td>\n",
        "      <td>  17.22457</td>\n",
        "    </tr>\n",
        "    <tr>\n",
        "      <th>4 </th>\n",
        "      <td>    bostonglobe</td>\n",
        "      <td> 5729</td>\n",
        "      <td> 4003</td>\n",
        "      <td> 1726</td>\n",
        "      <td> 1661</td>\n",
        "      <td> 1633</td>\n",
        "      <td>   28</td>\n",
        "      <td>  715</td>\n",
        "      <td>   17.8616</td>\n",
        "    </tr>\n",
        "    <tr>\n",
        "      <th>0 </th>\n",
        "      <td>        abcnews</td>\n",
        "      <td> 1810</td>\n",
        "      <td> 1404</td>\n",
        "      <td>  406</td>\n",
        "      <td> 1271</td>\n",
        "      <td> 1098</td>\n",
        "      <td>  173</td>\n",
        "      <td>  261</td>\n",
        "      <td>  18.58974</td>\n",
        "    </tr>\n",
        "    <tr>\n",
        "      <th>6 </th>\n",
        "      <td>            cnn</td>\n",
        "      <td> 3201</td>\n",
        "      <td> 2729</td>\n",
        "      <td>  472</td>\n",
        "      <td> 1722</td>\n",
        "      <td> 1539</td>\n",
        "      <td>  183</td>\n",
        "      <td>  600</td>\n",
        "      <td>  21.98608</td>\n",
        "    </tr>\n",
        "    <tr>\n",
        "      <th>22</th>\n",
        "      <td> washingtonpost</td>\n",
        "      <td> 4427</td>\n",
        "      <td> 3420</td>\n",
        "      <td> 1007</td>\n",
        "      <td> 2830</td>\n",
        "      <td> 2568</td>\n",
        "      <td>  262</td>\n",
        "      <td>  777</td>\n",
        "      <td>   22.7193</td>\n",
        "    </tr>\n",
        "    <tr>\n",
        "      <th>13</th>\n",
        "      <td>       newsweek</td>\n",
        "      <td> 3662</td>\n",
        "      <td> 2149</td>\n",
        "      <td> 1513</td>\n",
        "      <td>  645</td>\n",
        "      <td>  589</td>\n",
        "      <td>   56</td>\n",
        "      <td>  518</td>\n",
        "      <td>  24.10423</td>\n",
        "    </tr>\n",
        "    <tr>\n",
        "      <th>17</th>\n",
        "      <td>          slate</td>\n",
        "      <td> 5815</td>\n",
        "      <td> 2252</td>\n",
        "      <td> 3563</td>\n",
        "      <td> 1003</td>\n",
        "      <td>  993</td>\n",
        "      <td>   10</td>\n",
        "      <td>  547</td>\n",
        "      <td>  24.28952</td>\n",
        "    </tr>\n",
        "    <tr>\n",
        "      <th>7 </th>\n",
        "      <td>      dailymail</td>\n",
        "      <td> 3852</td>\n",
        "      <td> 3593</td>\n",
        "      <td>  259</td>\n",
        "      <td> 3396</td>\n",
        "      <td> 3359</td>\n",
        "      <td>   37</td>\n",
        "      <td> 1242</td>\n",
        "      <td>  34.56721</td>\n",
        "    </tr>\n",
        "    <tr>\n",
        "      <th>11</th>\n",
        "      <td>          msnbc</td>\n",
        "      <td> 3342</td>\n",
        "      <td> 2737</td>\n",
        "      <td>  605</td>\n",
        "      <td> 1319</td>\n",
        "      <td> 1295</td>\n",
        "      <td>   24</td>\n",
        "      <td>  999</td>\n",
        "      <td>  36.49982</td>\n",
        "    </tr>\n",
        "    <tr>\n",
        "      <th>5 </th>\n",
        "      <td>        cbsnews</td>\n",
        "      <td> 3184</td>\n",
        "      <td> 2493</td>\n",
        "      <td>  691</td>\n",
        "      <td> 1915</td>\n",
        "      <td> 1697</td>\n",
        "      <td>  218</td>\n",
        "      <td>  944</td>\n",
        "      <td>  37.86602</td>\n",
        "    </tr>\n",
        "    <tr>\n",
        "      <th>15</th>\n",
        "      <td>        nytimes</td>\n",
        "      <td> 5656</td>\n",
        "      <td> 3373</td>\n",
        "      <td> 2283</td>\n",
        "      <td> 4390</td>\n",
        "      <td> 3832</td>\n",
        "      <td>  558</td>\n",
        "      <td> 1571</td>\n",
        "      <td>  46.57575</td>\n",
        "    </tr>\n",
        "    <tr>\n",
        "      <th>12</th>\n",
        "      <td>        nbcnews</td>\n",
        "      <td> 3256</td>\n",
        "      <td> 2916</td>\n",
        "      <td>  340</td>\n",
        "      <td> 4901</td>\n",
        "      <td> 3396</td>\n",
        "      <td> 1505</td>\n",
        "      <td> 1486</td>\n",
        "      <td>  50.96022</td>\n",
        "    </tr>\n",
        "    <tr>\n",
        "      <th>20</th>\n",
        "      <td>           time</td>\n",
        "      <td> 4654</td>\n",
        "      <td> 3074</td>\n",
        "      <td> 1580</td>\n",
        "      <td> 4281</td>\n",
        "      <td> 3517</td>\n",
        "      <td>  764</td>\n",
        "      <td> 1674</td>\n",
        "      <td>  54.45673</td>\n",
        "    </tr>\n",
        "    <tr>\n",
        "      <th>18</th>\n",
        "      <td>  thedailybeast</td>\n",
        "      <td> 3266</td>\n",
        "      <td> 2365</td>\n",
        "      <td>  901</td>\n",
        "      <td> 3163</td>\n",
        "      <td> 2796</td>\n",
        "      <td>  367</td>\n",
        "      <td> 1336</td>\n",
        "      <td>  56.49049</td>\n",
        "    </tr>\n",
        "  </tbody>\n",
        "</table>\n",
        "</div>"
       ],
       "metadata": {},
       "output_type": "pyout",
       "prompt_number": 57,
       "text": [
        "           newsOrg tw_total tw_unique tw_repeat fb_total fb_unique fb_repeat  \\\n",
        "19     theguardian     7885      7751       134     2223      2220         3   \n",
        "1              afp     3116      2569       547      439       386        53   \n",
        "3              bbc     3941      2960       981     1531      1236       295   \n",
        "2               ap     3784      3098       686      248       239         9   \n",
        "14             npr     3145      2913       232     1448      1424        24   \n",
        "8          foxnews     3199      2954       245     1170       992       178   \n",
        "23             wsj     4780      3524      1256      896       884        12   \n",
        "16         reuters     3693      2765       928      497       492         5   \n",
        "24       yahoonews     4377      3805       572     2067      1660       407   \n",
        "21        usatoday     3411      2589       822     1022       989        33   \n",
        "9   huffingtonpost     6890      6657       233     3119      3068        51   \n",
        "10         latimes     3316      3077       239     1049      1039        10   \n",
        "4      bostonglobe     5729      4003      1726     1661      1633        28   \n",
        "0          abcnews     1810      1404       406     1271      1098       173   \n",
        "6              cnn     3201      2729       472     1722      1539       183   \n",
        "22  washingtonpost     4427      3420      1007     2830      2568       262   \n",
        "13        newsweek     3662      2149      1513      645       589        56   \n",
        "17           slate     5815      2252      3563     1003       993        10   \n",
        "7        dailymail     3852      3593       259     3396      3359        37   \n",
        "11           msnbc     3342      2737       605     1319      1295        24   \n",
        "5          cbsnews     3184      2493       691     1915      1697       218   \n",
        "15         nytimes     5656      3373      2283     4390      3832       558   \n",
        "12         nbcnews     3256      2916       340     4901      3396      1505   \n",
        "20            time     4654      3074      1580     4281      3517       764   \n",
        "18   thedailybeast     3266      2365       901     3163      2796       367   \n",
        "\n",
        "   merged_unique MergePercent  \n",
        "19            59    0.7611921  \n",
        "1             28     1.089918  \n",
        "3             57     1.925676  \n",
        "2             96     3.098773  \n",
        "14           207     7.106076  \n",
        "8            256     8.666215  \n",
        "23           330     9.364359  \n",
        "16           260     9.403255  \n",
        "24           372      9.77661  \n",
        "21           307     11.85786  \n",
        "9           1135     17.04972  \n",
        "10           530     17.22457  \n",
        "4            715      17.8616  \n",
        "0            261     18.58974  \n",
        "6            600     21.98608  \n",
        "22           777      22.7193  \n",
        "13           518     24.10423  \n",
        "17           547     24.28952  \n",
        "7           1242     34.56721  \n",
        "11           999     36.49982  \n",
        "5            944     37.86602  \n",
        "15          1571     46.57575  \n",
        "12          1486     50.96022  \n",
        "20          1674     54.45673  \n",
        "18          1336     56.49049  "
       ]
      }
     ],
     "prompt_number": 57
    },
    {
     "cell_type": "code",
     "collapsed": false,
     "input": [
      "dup_DF = pd.read_csv( pathMergedUrl+'DupStat/dup_count_'+'nytimes'+'_fb.csv')"
     ],
     "language": "python",
     "metadata": {},
     "outputs": [],
     "prompt_number": 60
    },
    {
     "cell_type": "code",
     "collapsed": false,
     "input": [
      "dup_DF"
     ],
     "language": "python",
     "metadata": {},
     "outputs": [
      {
       "html": [
        "<div style=\"max-height:1000px;max-width:1500px;overflow:auto;\">\n",
        "<table border=\"1\" class=\"dataframe\">\n",
        "  <thead>\n",
        "    <tr style=\"text-align: right;\">\n",
        "      <th></th>\n",
        "      <th>Unnamed: 0</th>\n",
        "      <th>Counts</th>\n",
        "    </tr>\n",
        "  </thead>\n",
        "  <tbody>\n",
        "    <tr>\n",
        "      <th>0   </th>\n",
        "      <td>                        www.facebook.com/video.php</td>\n",
        "      <td> 67</td>\n",
        "    </tr>\n",
        "    <tr>\n",
        "      <th>1   </th>\n",
        "      <td> www.nytimes.com/interactive/2014/fashion/fashi...</td>\n",
        "      <td> 22</td>\n",
        "    </tr>\n",
        "    <tr>\n",
        "      <th>2   </th>\n",
        "      <td>               elections.nytimes.com/2014/liveblog</td>\n",
        "      <td> 14</td>\n",
        "    </tr>\n",
        "    <tr>\n",
        "      <th>3   </th>\n",
        "      <td> www.nytimes.com/interactive/2014/07/31/world/a...</td>\n",
        "      <td>  8</td>\n",
        "    </tr>\n",
        "    <tr>\n",
        "      <th>4   </th>\n",
        "      <td> lens.blogs.nytimes.com/category/pictures-of-th...</td>\n",
        "      <td>  6</td>\n",
        "    </tr>\n",
        "    <tr>\n",
        "      <th>5   </th>\n",
        "      <td> www.nytimes.com/2014/09/22/nyregion/new-york-c...</td>\n",
        "      <td>  4</td>\n",
        "    </tr>\n",
        "    <tr>\n",
        "      <th>6   </th>\n",
        "      <td>  www.nytimes.com/politics/first-draft/2014/09/22/</td>\n",
        "      <td>  4</td>\n",
        "    </tr>\n",
        "    <tr>\n",
        "      <th>7   </th>\n",
        "      <td> www.nytimes.com/2014/11/05/us/politics/midterm...</td>\n",
        "      <td>  4</td>\n",
        "    </tr>\n",
        "    <tr>\n",
        "      <th>8   </th>\n",
        "      <td> www.nytimes.com/2014/09/07/movies/fall-arts-pr...</td>\n",
        "      <td>  4</td>\n",
        "    </tr>\n",
        "    <tr>\n",
        "      <th>9   </th>\n",
        "      <td> www.nytimes.com/interactive/2014/09/04/upshot/...</td>\n",
        "      <td>  4</td>\n",
        "    </tr>\n",
        "    <tr>\n",
        "      <th>10  </th>\n",
        "      <td> www.nytimes.com/interactive/2014/10/14/world/m...</td>\n",
        "      <td>  4</td>\n",
        "    </tr>\n",
        "    <tr>\n",
        "      <th>11  </th>\n",
        "      <td>  www.nytimes.com/politics/first-draft/2014/09/29/</td>\n",
        "      <td>  3</td>\n",
        "    </tr>\n",
        "    <tr>\n",
        "      <th>12  </th>\n",
        "      <td> www.nytimes.com/2014/09/19/world/europe/scotla...</td>\n",
        "      <td>  3</td>\n",
        "    </tr>\n",
        "    <tr>\n",
        "      <th>13  </th>\n",
        "      <td> www.nytimes.com/2014/10/31/world/middleeast/is...</td>\n",
        "      <td>  3</td>\n",
        "    </tr>\n",
        "    <tr>\n",
        "      <th>14  </th>\n",
        "      <td> www.nytimes.com/interactive/2014/01/10/travel/...</td>\n",
        "      <td>  3</td>\n",
        "    </tr>\n",
        "    <tr>\n",
        "      <th>15  </th>\n",
        "      <td> www.nytimes.com/2014/09/04/world/middleeast/su...</td>\n",
        "      <td>  3</td>\n",
        "    </tr>\n",
        "    <tr>\n",
        "      <th>16  </th>\n",
        "      <td> www.nytimes.com/2014/09/24/world/asia/obama-at...</td>\n",
        "      <td>  3</td>\n",
        "    </tr>\n",
        "    <tr>\n",
        "      <th>17  </th>\n",
        "      <td> www.nytimes.com/interactive/2014/06/12/world/m...</td>\n",
        "      <td>  3</td>\n",
        "    </tr>\n",
        "    <tr>\n",
        "      <th>18  </th>\n",
        "      <td>         elections.nytimes.com/2014/state-by-state</td>\n",
        "      <td>  3</td>\n",
        "    </tr>\n",
        "    <tr>\n",
        "      <th>19  </th>\n",
        "      <td> www.nytimes.com/2014/09/16/science/a-discovere...</td>\n",
        "      <td>  3</td>\n",
        "    </tr>\n",
        "    <tr>\n",
        "      <th>20  </th>\n",
        "      <td> www.nytimes.com/2014/09/07/fashion/narciso-rod...</td>\n",
        "      <td>  3</td>\n",
        "    </tr>\n",
        "    <tr>\n",
        "      <th>21  </th>\n",
        "      <td> www.nytimes.com/2014/09/14/us/police-armored-v...</td>\n",
        "      <td>  3</td>\n",
        "    </tr>\n",
        "    <tr>\n",
        "      <th>22  </th>\n",
        "      <td> www.nytimes.com/2014/10/02/world/africa/ebola-...</td>\n",
        "      <td>  3</td>\n",
        "    </tr>\n",
        "    <tr>\n",
        "      <th>23  </th>\n",
        "      <td> www.nytimes.com/2014/09/14/science/earth/sun-a...</td>\n",
        "      <td>  3</td>\n",
        "    </tr>\n",
        "    <tr>\n",
        "      <th>24  </th>\n",
        "      <td> www.nytimes.com/interactive/2014/09/04/arts/fa...</td>\n",
        "      <td>  3</td>\n",
        "    </tr>\n",
        "    <tr>\n",
        "      <th>25  </th>\n",
        "      <td>  www.nytimes.com/politics/first-draft/2014/10/27/</td>\n",
        "      <td>  3</td>\n",
        "    </tr>\n",
        "    <tr>\n",
        "      <th>26  </th>\n",
        "      <td> www.nytimes.com/2014/09/06/movies/medical-mari...</td>\n",
        "      <td>  3</td>\n",
        "    </tr>\n",
        "    <tr>\n",
        "      <th>27  </th>\n",
        "      <td> www.nytimes.com/2014/10/12/opinion/sunday/end-...</td>\n",
        "      <td>  3</td>\n",
        "    </tr>\n",
        "    <tr>\n",
        "      <th>28  </th>\n",
        "      <td> www.nytimes.com/2014/08/31/technology/esports-...</td>\n",
        "      <td>  3</td>\n",
        "    </tr>\n",
        "    <tr>\n",
        "      <th>29  </th>\n",
        "      <td> www.nytimes.com/2014/09/29/world/asia/clashes-...</td>\n",
        "      <td>  3</td>\n",
        "    </tr>\n",
        "    <tr>\n",
        "      <th>...</th>\n",
        "      <td>...</td>\n",
        "      <td>...</td>\n",
        "    </tr>\n",
        "    <tr>\n",
        "      <th>3802</th>\n",
        "      <td> cooking.nytimes.com/recipes/1013875-roasted-pe...</td>\n",
        "      <td>  1</td>\n",
        "    </tr>\n",
        "    <tr>\n",
        "      <th>3803</th>\n",
        "      <td> www.nytimes.com/2014/09/01/world/asia/hong-kon...</td>\n",
        "      <td>  1</td>\n",
        "    </tr>\n",
        "    <tr>\n",
        "      <th>3804</th>\n",
        "      <td> www.nytimes.com/2014/09/08/nyregion/some-retai...</td>\n",
        "      <td>  1</td>\n",
        "    </tr>\n",
        "    <tr>\n",
        "      <th>3805</th>\n",
        "      <td> www.nytimes.com/2014/09/14/opinion/sunday/the-...</td>\n",
        "      <td>  1</td>\n",
        "    </tr>\n",
        "    <tr>\n",
        "      <th>3806</th>\n",
        "      <td> www.nytimes.com/2014/09/11/garden/the-elastic-...</td>\n",
        "      <td>  1</td>\n",
        "    </tr>\n",
        "    <tr>\n",
        "      <th>3807</th>\n",
        "      <td> bits.blogs.nytimes.com/2014/09/04/tech-giants-...</td>\n",
        "      <td>  1</td>\n",
        "    </tr>\n",
        "    <tr>\n",
        "      <th>3808</th>\n",
        "      <td> www.nytimes.com/2014/09/18/business/media/amer...</td>\n",
        "      <td>  1</td>\n",
        "    </tr>\n",
        "    <tr>\n",
        "      <th>3809</th>\n",
        "      <td> www.nytimes.com/aponline/2014/09/15/world/midd...</td>\n",
        "      <td>  1</td>\n",
        "    </tr>\n",
        "    <tr>\n",
        "      <th>3810</th>\n",
        "      <td> www.nytimes.com/2014/09/13/opinion/joe-nocera-...</td>\n",
        "      <td>  1</td>\n",
        "    </tr>\n",
        "    <tr>\n",
        "      <th>3811</th>\n",
        "      <td> www.nytimes.com/video/fashion/100000003082114/...</td>\n",
        "      <td>  1</td>\n",
        "    </tr>\n",
        "    <tr>\n",
        "      <th>3812</th>\n",
        "      <td> www.nytimes.com/2014/09/14/opinion/sunday/maur...</td>\n",
        "      <td>  1</td>\n",
        "    </tr>\n",
        "    <tr>\n",
        "      <th>3813</th>\n",
        "      <td> www.nytimes.com/2014/09/17/arts/macarthur-awar...</td>\n",
        "      <td>  1</td>\n",
        "    </tr>\n",
        "    <tr>\n",
        "      <th>3814</th>\n",
        "      <td> well.blogs.nytimes.com/projects/breast-cancer-...</td>\n",
        "      <td>  1</td>\n",
        "    </tr>\n",
        "    <tr>\n",
        "      <th>3815</th>\n",
        "      <td> www.facebook.com/nytimes/photos/a.283559809998...</td>\n",
        "      <td>  1</td>\n",
        "    </tr>\n",
        "    <tr>\n",
        "      <th>3816</th>\n",
        "      <td> www.nytimes.com/2014/10/28/us/washington-schoo...</td>\n",
        "      <td>  1</td>\n",
        "    </tr>\n",
        "    <tr>\n",
        "      <th>3817</th>\n",
        "      <td> www.nytimes.com/2014/11/05/nyregion/de-blasio-...</td>\n",
        "      <td>  1</td>\n",
        "    </tr>\n",
        "    <tr>\n",
        "      <th>3818</th>\n",
        "      <td> lens.blogs.nytimes.com/2014/09/29/pictures-of-...</td>\n",
        "      <td>  1</td>\n",
        "    </tr>\n",
        "    <tr>\n",
        "      <th>3819</th>\n",
        "      <td> www.nytimes.com/aponline/2014/11/01/us/ap-us-c...</td>\n",
        "      <td>  1</td>\n",
        "    </tr>\n",
        "    <tr>\n",
        "      <th>3820</th>\n",
        "      <td> www.nytimes.com/interactive/2014/us/07aca-call...</td>\n",
        "      <td>  1</td>\n",
        "    </tr>\n",
        "    <tr>\n",
        "      <th>3821</th>\n",
        "      <td> www.nytimes.com/2014/10/05/fashion/at-the-hosp...</td>\n",
        "      <td>  1</td>\n",
        "    </tr>\n",
        "    <tr>\n",
        "      <th>3822</th>\n",
        "      <td> www.nytimes.com/2014/10/26/travel/former-churc...</td>\n",
        "      <td>  1</td>\n",
        "    </tr>\n",
        "    <tr>\n",
        "      <th>3823</th>\n",
        "      <td> www.nytimes.com/2014/09/18/world/europe/scotla...</td>\n",
        "      <td>  1</td>\n",
        "    </tr>\n",
        "    <tr>\n",
        "      <th>3824</th>\n",
        "      <td> www.nytimes.com/2014/09/13/world/americas/rob-...</td>\n",
        "      <td>  1</td>\n",
        "    </tr>\n",
        "    <tr>\n",
        "      <th>3825</th>\n",
        "      <td> www.nytimes.com/2014/09/30/movies/at-new-york-...</td>\n",
        "      <td>  1</td>\n",
        "    </tr>\n",
        "    <tr>\n",
        "      <th>3826</th>\n",
        "      <td> op-talk.blogs.nytimes.com/2014/09/02/how-can-m...</td>\n",
        "      <td>  1</td>\n",
        "    </tr>\n",
        "    <tr>\n",
        "      <th>3827</th>\n",
        "      <td> www.nytimes.com/2014/09/08/sports/football/mar...</td>\n",
        "      <td>  1</td>\n",
        "    </tr>\n",
        "    <tr>\n",
        "      <th>3828</th>\n",
        "      <td> bits.blogs.nytimes.com/2014/09/05/taking-a-nak...</td>\n",
        "      <td>  1</td>\n",
        "    </tr>\n",
        "    <tr>\n",
        "      <th>3829</th>\n",
        "      <td>     elections.nytimes.com/2014/kentucky-elections</td>\n",
        "      <td>  1</td>\n",
        "    </tr>\n",
        "    <tr>\n",
        "      <th>3830</th>\n",
        "      <td> www.nytimes.com/2014/10/19/fashion/bill-cunnin...</td>\n",
        "      <td>  1</td>\n",
        "    </tr>\n",
        "    <tr>\n",
        "      <th>3831</th>\n",
        "      <td> well.blogs.nytimes.com/2014/10/13/vulnerabilit...</td>\n",
        "      <td>  1</td>\n",
        "    </tr>\n",
        "  </tbody>\n",
        "</table>\n",
        "<p>3832 rows \u00d7 2 columns</p>\n",
        "</div>"
       ],
       "metadata": {},
       "output_type": "pyout",
       "prompt_number": 61,
       "text": [
        "                                             Unnamed: 0  Counts\n",
        "0                            www.facebook.com/video.php      67\n",
        "1     www.nytimes.com/interactive/2014/fashion/fashi...      22\n",
        "2                   elections.nytimes.com/2014/liveblog      14\n",
        "3     www.nytimes.com/interactive/2014/07/31/world/a...       8\n",
        "4     lens.blogs.nytimes.com/category/pictures-of-th...       6\n",
        "5     www.nytimes.com/2014/09/22/nyregion/new-york-c...       4\n",
        "6      www.nytimes.com/politics/first-draft/2014/09/22/       4\n",
        "7     www.nytimes.com/2014/11/05/us/politics/midterm...       4\n",
        "8     www.nytimes.com/2014/09/07/movies/fall-arts-pr...       4\n",
        "9     www.nytimes.com/interactive/2014/09/04/upshot/...       4\n",
        "10    www.nytimes.com/interactive/2014/10/14/world/m...       4\n",
        "11     www.nytimes.com/politics/first-draft/2014/09/29/       3\n",
        "12    www.nytimes.com/2014/09/19/world/europe/scotla...       3\n",
        "13    www.nytimes.com/2014/10/31/world/middleeast/is...       3\n",
        "14    www.nytimes.com/interactive/2014/01/10/travel/...       3\n",
        "15    www.nytimes.com/2014/09/04/world/middleeast/su...       3\n",
        "16    www.nytimes.com/2014/09/24/world/asia/obama-at...       3\n",
        "17    www.nytimes.com/interactive/2014/06/12/world/m...       3\n",
        "18            elections.nytimes.com/2014/state-by-state       3\n",
        "19    www.nytimes.com/2014/09/16/science/a-discovere...       3\n",
        "20    www.nytimes.com/2014/09/07/fashion/narciso-rod...       3\n",
        "21    www.nytimes.com/2014/09/14/us/police-armored-v...       3\n",
        "22    www.nytimes.com/2014/10/02/world/africa/ebola-...       3\n",
        "23    www.nytimes.com/2014/09/14/science/earth/sun-a...       3\n",
        "24    www.nytimes.com/interactive/2014/09/04/arts/fa...       3\n",
        "25     www.nytimes.com/politics/first-draft/2014/10/27/       3\n",
        "26    www.nytimes.com/2014/09/06/movies/medical-mari...       3\n",
        "27    www.nytimes.com/2014/10/12/opinion/sunday/end-...       3\n",
        "28    www.nytimes.com/2014/08/31/technology/esports-...       3\n",
        "29    www.nytimes.com/2014/09/29/world/asia/clashes-...       3\n",
        "...                                                 ...     ...\n",
        "3802  cooking.nytimes.com/recipes/1013875-roasted-pe...       1\n",
        "3803  www.nytimes.com/2014/09/01/world/asia/hong-kon...       1\n",
        "3804  www.nytimes.com/2014/09/08/nyregion/some-retai...       1\n",
        "3805  www.nytimes.com/2014/09/14/opinion/sunday/the-...       1\n",
        "3806  www.nytimes.com/2014/09/11/garden/the-elastic-...       1\n",
        "3807  bits.blogs.nytimes.com/2014/09/04/tech-giants-...       1\n",
        "3808  www.nytimes.com/2014/09/18/business/media/amer...       1\n",
        "3809  www.nytimes.com/aponline/2014/09/15/world/midd...       1\n",
        "3810  www.nytimes.com/2014/09/13/opinion/joe-nocera-...       1\n",
        "3811  www.nytimes.com/video/fashion/100000003082114/...       1\n",
        "3812  www.nytimes.com/2014/09/14/opinion/sunday/maur...       1\n",
        "3813  www.nytimes.com/2014/09/17/arts/macarthur-awar...       1\n",
        "3814  well.blogs.nytimes.com/projects/breast-cancer-...       1\n",
        "3815  www.facebook.com/nytimes/photos/a.283559809998...       1\n",
        "3816  www.nytimes.com/2014/10/28/us/washington-schoo...       1\n",
        "3817  www.nytimes.com/2014/11/05/nyregion/de-blasio-...       1\n",
        "3818  lens.blogs.nytimes.com/2014/09/29/pictures-of-...       1\n",
        "3819  www.nytimes.com/aponline/2014/11/01/us/ap-us-c...       1\n",
        "3820  www.nytimes.com/interactive/2014/us/07aca-call...       1\n",
        "3821  www.nytimes.com/2014/10/05/fashion/at-the-hosp...       1\n",
        "3822  www.nytimes.com/2014/10/26/travel/former-churc...       1\n",
        "3823  www.nytimes.com/2014/09/18/world/europe/scotla...       1\n",
        "3824  www.nytimes.com/2014/09/13/world/americas/rob-...       1\n",
        "3825  www.nytimes.com/2014/09/30/movies/at-new-york-...       1\n",
        "3826  op-talk.blogs.nytimes.com/2014/09/02/how-can-m...       1\n",
        "3827  www.nytimes.com/2014/09/08/sports/football/mar...       1\n",
        "3828  bits.blogs.nytimes.com/2014/09/05/taking-a-nak...       1\n",
        "3829      elections.nytimes.com/2014/kentucky-elections       1\n",
        "3830  www.nytimes.com/2014/10/19/fashion/bill-cunnin...       1\n",
        "3831  well.blogs.nytimes.com/2014/10/13/vulnerabilit...       1\n",
        "\n",
        "[3832 rows x 2 columns]"
       ]
      }
     ],
     "prompt_number": 61
    },
    {
     "cell_type": "code",
     "collapsed": false,
     "input": [],
     "language": "python",
     "metadata": {},
     "outputs": []
    }
   ],
   "metadata": {}
  }
 ]
}