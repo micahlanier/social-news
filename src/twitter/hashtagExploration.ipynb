{
 "metadata": {
  "name": "",
  "signature": "sha256:492c82c42773937d8cabcf1e152950cdeacbaeeb404cec0a06b01e5d22a50573"
 },
 "nbformat": 3,
 "nbformat_minor": 0,
 "worksheets": [
  {
   "cells": [
    {
     "cell_type": "heading",
     "level": 1,
     "metadata": {},
     "source": [
      "Twitter Hashtags"
     ]
    },
    {
     "cell_type": "markdown",
     "metadata": {},
     "source": [
      "This analysis aims to find useful information about Twitter hashtags for pseudo-topic analysis."
     ]
    },
    {
     "cell_type": "code",
     "collapsed": false,
     "input": [
      "# Libraries.\n",
      "import json\n",
      "import os\n",
      "import pandas as pd"
     ],
     "language": "python",
     "metadata": {},
     "outputs": [],
     "prompt_number": 14
    },
    {
     "cell_type": "code",
     "collapsed": false,
     "input": [
      "# Settings.\n",
      "twDir = '../../../data/twitter/consolidated/'"
     ],
     "language": "python",
     "metadata": {},
     "outputs": [],
     "prompt_number": 3
    },
    {
     "cell_type": "heading",
     "level": 2,
     "metadata": {},
     "source": [
      "Hashtag Contents"
     ]
    },
    {
     "cell_type": "markdown",
     "metadata": {},
     "source": [
      "This analysis just reads all hashtags and finds the most popular ones."
     ]
    },
    {
     "cell_type": "code",
     "collapsed": false,
     "input": [
      "# Read *all* tweets. Don't bother with our time range; just try to capture as much content as possible.\n",
      "orgTweets = [json.load(open(twDir+f)) for f in os.listdir(twDir) if f != '.DS_Store']\n",
      "orgTweets = [tweet for org in orgTweets for tweet in org]\n",
      "hashtags = [tweet['entities']['hashtags'] for tweet in orgTweets]\n",
      "del orgTweets\n",
      "hashtags = [ht['text'] for hashtagList in hashtags for ht in hashtagList]\n",
      "print 'Found %d hashtags.' % len(hashtags)"
     ],
     "language": "python",
     "metadata": {},
     "outputs": [],
     "prompt_number": 5
    },
    {
     "cell_type": "code",
     "collapsed": false,
     "input": [
      "# Process hashtag counts into a dictionary.\n",
      "htFreq = dict()\n",
      "for ht in hashtags:\n",
      "    if ht not in htFreq: htFreq[ht] = 0\n",
      "    htFreq[ht] += 1\n",
      "\n",
      "# Construct a data frame.\n",
      "htDf = pd.DataFrame(dict((k,[v]) for k,v in htFreq.iteritems())).transpose()\n",
      "htDf.columns = ['Incidence']\n",
      "# Order.\n",
      "htDf.sort('Incidence',ascending=False,inplace=True)"
     ],
     "language": "python",
     "metadata": {},
     "outputs": [],
     "prompt_number": 32
    },
    {
     "cell_type": "code",
     "collapsed": false,
     "input": [
      "# Print out top hashtags.\n",
      "print htDf.head(n=50)"
     ],
     "language": "python",
     "metadata": {},
     "outputs": [
      {
       "output_type": "stream",
       "stream": "stdout",
       "text": [
        "                       Incidence\n",
        "Ferguson                    1558\n",
        "Ebola                       1533\n",
        "BREAKING                    1386\n",
        "UPDATE                       760\n",
        "ISIS                         650\n",
        "Election2014                 471\n",
        "KellyFile                    394\n",
        "AFP                          330\n",
        "FoxNews                      314\n",
        "Obama                        253\n",
        "odd                          223\n",
        "msnbcvote                    219\n",
        "HongKong                     211\n",
        "FergusonDecision             202\n",
        "MichaelBrown                 185\n",
        "Syria                        183\n",
        "VIDEO                        181\n",
        "immigration                  169\n",
        "video                        157\n",
        "OscarPistorius               151\n",
        "Patriots                     148\n",
        "Hannity                      136\n",
        "GlobalCitizenFestival        131\n",
        "ebolaanswers                 122\n",
        "CometLanding                 121\n",
        "OccupyCentral                117\n",
        "Iraq                         105\n",
        "AC360                         99\n",
        "AP10Things                    98\n",
        "Thanksgiving                  92\n",
        "CNNElection                   89\n",
        "election2014                  85\n",
        "BBCSyriaWar                   83\n",
        "Ukraine                       81\n",
        "NFL                           81\n",
        "Apple                         79\n",
        "TIMEPOY                       78\n",
        "Midterms2014                  75\n",
        "DearPrudie                    75\n",
        "Iran                          75\n",
        "APracecall                    74\n",
        "indyref                       74\n",
        "mapoli                        74\n",
        "BlackFriday                   71\n",
        "Kobane                        70\n",
        "CNN                           67\n",
        "NBCPolitics                   66\n",
        "magov                         65\n",
        "WorldSeries                   63\n",
        "ebola                         63\n"
       ]
      }
     ],
     "prompt_number": 37
    },
    {
     "cell_type": "markdown",
     "metadata": {},
     "source": [
      "From the above, there appear to be four major categories of hashtags:\n",
      "- Ferguson\n",
      "- ISIS, Syria/Iraq\n",
      "- Ebola\n",
      "- Midterm elections, Obama\n",
      "\n",
      "There are also some more notable topics:\n",
      "- Hong Kong\n",
      "- Immigration\n",
      "- Oscar Pistorius\n",
      "- Comet landing \n",
      "- Thanksgiving"
     ]
    },
    {
     "cell_type": "markdown",
     "metadata": {},
     "source": [
      "Idea: maybe examine the frequency of words found in all of these. \"Ebola\" will be in any post about Ebola, but we may want to hand-code a rule for election coverage, which may contain related words like \"vote\" or \"elect.\""
     ]
    },
    {
     "cell_type": "heading",
     "level": 2,
     "metadata": {},
     "source": [
      "Hashtag Usage"
     ]
    },
    {
     "cell_type": "markdown",
     "metadata": {},
     "source": [
      "This analysis looks at how organizations are *using* hashtags. It may tell us if some don't at all, or which organizations are more prolific users."
     ]
    }
   ],
   "metadata": {}
  }
 ]
}